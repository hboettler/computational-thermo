{
  "nbformat": 4,
  "nbformat_minor": 0,
  "metadata": {
    "colab": {
      "name": "colab-cantera.ipynb",
      "provenance": [],
      "collapsed_sections": []
    },
    "kernelspec": {
      "name": "python3",
      "display_name": "Python 3"
    }
  },
  "cells": [
    {
      "cell_type": "markdown",
      "metadata": {
        "id": "MQDqfpQfUadZ",
        "colab_type": "text"
      },
      "source": [
        "To use Cantera in Google Colaboratory, you'll need to first install it using these "
      ]
    },
    {
      "cell_type": "code",
      "metadata": {
        "id": "r6i-9JwqSsoc",
        "colab_type": "code",
        "colab": {}
      },
      "source": [
        "!apt-get -qq update -y\n",
        "!apt-add-repository -y ppa:speth/cantera > /dev/null 2>&1\n",
        "!apt-get -qq install -y cantera-python3"
      ],
      "execution_count": 0,
      "outputs": []
    },
    {
      "cell_type": "markdown",
      "metadata": {
        "id": "Wh_p22QWVqnx",
        "colab_type": "text"
      },
      "source": [
        "Install other non-default packages like Pint and CoolProp:"
      ]
    },
    {
      "cell_type": "code",
      "metadata": {
        "id": "XneGKNH1TizL",
        "colab_type": "code",
        "colab": {}
      },
      "source": [
        "!pip install -q pint coolprop"
      ],
      "execution_count": 0,
      "outputs": []
    },
    {
      "cell_type": "markdown",
      "metadata": {
        "id": "uitMAaovWBHA",
        "colab_type": "text"
      },
      "source": [
        "Now load all the necessary libraries:"
      ]
    },
    {
      "cell_type": "code",
      "metadata": {
        "id": "kI_PvwDyT_mM",
        "colab_type": "code",
        "colab": {}
      },
      "source": [
        "import numpy as np\n",
        "import matplotlib.pyplot as plt\n",
        "import cantera as ct\n",
        "\n",
        "from pint import UnitRegistry\n",
        "ureg = UnitRegistry()\n",
        "Q_ = ureg.Quantity"
      ],
      "execution_count": 0,
      "outputs": []
    },
    {
      "cell_type": "code",
      "metadata": {
        "id": "SGcBxkGdUDcy",
        "colab_type": "code",
        "colab": {}
      },
      "source": [
        ""
      ],
      "execution_count": 0,
      "outputs": []
    }
  ]
}
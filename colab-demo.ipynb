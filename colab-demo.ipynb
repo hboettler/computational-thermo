{
  "nbformat": 4,
  "nbformat_minor": 0,
  "metadata": {
    "colab": {
      "name": "colab-demo.ipynb",
      "provenance": [],
      "collapsed_sections": []
    },
    "kernelspec": {
      "display_name": "Python 3",
      "language": "python",
      "name": "python3"
    },
    "language_info": {
      "codemirror_mode": {
        "name": "ipython",
        "version": 3
      },
      "file_extension": ".py",
      "mimetype": "text/x-python",
      "name": "python",
      "nbconvert_exporter": "python",
      "pygments_lexer": "ipython3",
      "version": "3.6.10"
    }
  },
  "cells": [
    {
      "cell_type": "markdown",
      "metadata": {
        "colab_type": "text",
        "id": "MQDqfpQfUadZ"
      },
      "source": [
        "To use Cantera in Google Colaboratory, you'll need to first install it using these "
      ]
    },
    {
      "cell_type": "code",
      "metadata": {
        "colab_type": "code",
        "id": "r6i-9JwqSsoc",
        "colab": {}
      },
      "source": [
        "!apt-get -qq update -y\n",
        "!apt-get -qq install -y python3-software-properties\n",
        "!apt-add-repository -y ppa:speth/cantera > /dev/null 2>&1\n",
        "!apt-get -qq install -y cantera-python3"
      ],
      "execution_count": 0,
      "outputs": []
    },
    {
      "cell_type": "markdown",
      "metadata": {
        "colab_type": "text",
        "id": "Wh_p22QWVqnx"
      },
      "source": [
        "Install other non-default packages like Pint and CoolProp:"
      ]
    },
    {
      "cell_type": "code",
      "metadata": {
        "colab_type": "code",
        "id": "XneGKNH1TizL",
        "colab": {}
      },
      "source": [
        "!pip install -q pint coolprop"
      ],
      "execution_count": 0,
      "outputs": []
    },
    {
      "cell_type": "markdown",
      "metadata": {
        "colab_type": "text",
        "id": "uitMAaovWBHA"
      },
      "source": [
        "Now load all the necessary libraries:"
      ]
    },
    {
      "cell_type": "code",
      "metadata": {
        "colab_type": "code",
        "id": "kI_PvwDyT_mM",
        "colab": {}
      },
      "source": [
        "import numpy as np\n",
        "import matplotlib.pyplot as plt\n",
        "import cantera as ct\n",
        "\n",
        "from pint import UnitRegistry\n",
        "ureg = UnitRegistry()\n",
        "Q_ = ureg.Quantity"
      ],
      "execution_count": 0,
      "outputs": []
    },
    {
      "cell_type": "code",
      "metadata": {
        "id": "divLFYT5qHd6",
        "colab_type": "code",
        "colab": {}
      },
      "source": [
        ""
      ],
      "execution_count": 0,
      "outputs": []
    }
  ]
}
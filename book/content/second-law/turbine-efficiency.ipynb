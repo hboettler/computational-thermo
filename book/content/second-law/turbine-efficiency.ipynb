{
 "cells": [
  {
   "cell_type": "markdown",
   "metadata": {},
   "source": [
    "# Turbine isentropic efficiency\n",
    "\n",
    "A steam turbine performs with an isentropic efficiency of $\\eta_t = 0.84$. The inlet conditions are 4 MPa and 650°C, with a mass flow rate of 100 kg/s, and the exit pressure is 10 kPa. Assume the turbine is adiabatic.\n",
    "\n",
    "![Turbine](../../images/turbine.png)\n",
    "\n",
    "**Problem:**\n",
    " - Determine the power produced by the turbine\n",
    " - Determine the rate of entropy generation"
   ]
  },
  {
   "cell_type": "code",
   "execution_count": 1,
   "metadata": {},
   "outputs": [],
   "source": [
    "import numpy as np\n",
    "import cantera as ct\n",
    "\n",
    "from pint import UnitRegistry\n",
    "ureg = UnitRegistry()\n",
    "Q_ = ureg.Quantity"
   ]
  },
  {
   "cell_type": "markdown",
   "metadata": {},
   "source": [
    "We can start by specifying state 1 and the other known quantities:"
   ]
  },
  {
   "cell_type": "code",
   "execution_count": 3,
   "metadata": {},
   "outputs": [],
   "source": [
    "temp1 = Q_(650, 'degC')\n",
    "pres1 = Q_(4, 'MPa')\n",
    "\n",
    "state1 = ct.Water()\n",
    "state1.TP = temp1.to('K').magnitude, pres1.to('Pa').magnitude\n",
    "\n",
    "mass_flow_rate = Q_(100, 'kg/s')\n",
    "efficiency = 0.84\n",
    "\n",
    "pres2 = Q_(10, 'kPa')"
   ]
  },
  {
   "cell_type": "markdown",
   "metadata": {},
   "source": [
    "To apply the isentropic efficiency, we'll need to separately consider the real turbine and an equivalent turbine operating in a reversible manner. They have the same initial conditions and mass flow rate.\n",
    "\n",
    "For the reversible turbine, an entropy balance gives:\n",
    "\\begin{equation}\n",
    "s_{s,2} = s_1\n",
    "\\end{equation}\n",
    "and then with $P_2$ and $s_{s,2}$ we can fix state 2 for the reversible turbine:"
   ]
  },
  {
   "cell_type": "code",
   "execution_count": 6,
   "metadata": {},
   "outputs": [
    {
     "name": "stdout",
     "output_type": "stream",
     "text": [
      "\n",
      "  water:\n",
      "\n",
      "       temperature         319.003  K\n",
      "          pressure           10000  Pa\n",
      "           density         0.07464  kg/m^3\n",
      "  mean mol. weight          18.016  amu\n",
      "    vapor fraction        0.912916\n",
      "\n",
      "                          1 kg            1 kmol\n",
      "                       -----------      ------------\n",
      "          enthalpy    -1.35945e+07       -2.449e+08     J\n",
      "   internal energy    -1.37284e+07       -2.473e+08     J\n",
      "           entropy         11017.2        1.985e+05     J/K\n",
      "    Gibbs function     -1.7109e+07       -3.082e+08     J\n",
      " heat capacity c_p    inf              inf              J/K\n",
      " heat capacity c_v          100201        1.805e+06     J/K\n",
      "\n"
     ]
    }
   ],
   "source": [
    "state2_rev = ct.Water()\n",
    "state2_rev.SP = state1.s, pres2.to('Pa').magnitude\n",
    "state2_rev()"
   ]
  },
  {
   "cell_type": "markdown",
   "metadata": {},
   "source": [
    "Then, we can do an energy balance for the reversible turbine, which is also steady state and adiabatic:\n",
    "\\begin{equation}\n",
    "\\dot{m} h_1 = \\dot{m} h_{s,2} + \\dot{W}_{s,t}\n",
    "\\end{equation}\n",
    "Then, recall that the isentropic efficiency is defined as\n",
    "\\begin{equation}\n",
    "\\eta_t = \\frac{\\dot{W}_t}{\\dot{W}_{s,t}} \\;,\n",
    "\\end{equation}\n",
    "so we can obtain the actual turbine work using $\\dot{W}_t = \\eta_t \\dot{W}_{s,t}$ :"
   ]
  },
  {
   "cell_type": "code",
   "execution_count": 8,
   "metadata": {},
   "outputs": [
    {
     "name": "stdout",
     "output_type": "stream",
     "text": [
      "Actual turbine work: 118.73 megawatt\n"
     ]
    }
   ],
   "source": [
    "work_isentropic = mass_flow_rate * (\n",
    "    Q_(state1.h, 'J/kg') - Q_(state2_rev.h, 'J/kg')\n",
    "    )\n",
    "work_actual = efficiency * work_isentropic\n",
    "print(f'Actual turbine work: {work_actual.to(ureg.megawatt): .2f}')"
   ]
  },
  {
   "cell_type": "markdown",
   "metadata": {},
   "source": [
    "Then, we can perform an energy balance on the actual turbine:\n",
    "\\begin{equation}\n",
    "\\dot{m} h_1 = \\dot{m} h_2 + \\dot{W}_t \\;,\n",
    "\\end{equation}\n",
    "which we can use with the exit pressure to fix state 2."
   ]
  },
  {
   "cell_type": "code",
   "execution_count": 9,
   "metadata": {},
   "outputs": [
    {
     "name": "stdout",
     "output_type": "stream",
     "text": [
      "\n",
      "  water:\n",
      "\n",
      "       temperature         328.393  K\n",
      "          pressure           10000  Pa\n",
      "           density       0.0661646  kg/m^3\n",
      "  mean mol. weight          18.016  amu\n",
      "    vapor fraction               1\n",
      "\n",
      "                          1 kg            1 kmol\n",
      "                       -----------      ------------\n",
      "          enthalpy    -1.33683e+07       -2.408e+08     J\n",
      "   internal energy    -1.35194e+07       -2.436e+08     J\n",
      "           entropy         11725.3        2.112e+05     J/K\n",
      "    Gibbs function    -1.72188e+07       -3.102e+08     J\n",
      " heat capacity c_p         1894.36        3.413e+04     J/K\n",
      " heat capacity c_v         1423.02        2.564e+04     J/K\n",
      "\n"
     ]
    }
   ],
   "source": [
    "enthalpy2 = Q_(state1.h, 'J/kg') - (work_actual / mass_flow_rate)\n",
    "\n",
    "state2 = ct.Water()\n",
    "state2.HP = enthalpy2.to('J/kg').magnitude, pres2.to('Pa').magnitude\n",
    "state2()"
   ]
  },
  {
   "cell_type": "markdown",
   "metadata": {},
   "source": [
    "Finally, we can perform an entropy balance on the actual turbine:\n",
    "\\begin{equation}\n",
    "\\dot{m} s_1 + \\dot{S}_{\\text{gen}} = \\dot{m} s_2 \\;,\n",
    "\\end{equation}\n",
    "which allows us to find the rate of entropy generation."
   ]
  },
  {
   "cell_type": "code",
   "execution_count": 11,
   "metadata": {},
   "outputs": [
    {
     "name": "stdout",
     "output_type": "stream",
     "text": [
      "rate of entropy generation: 70.81 kilowatt / kelvin\n"
     ]
    }
   ],
   "source": [
    "entropy_gen = mass_flow_rate * (\n",
    "    Q_(state2.s, 'J/(kg K)') - Q_(state1.s, 'J/(kg K)')\n",
    "    )\n",
    "print(f'rate of entropy generation: {entropy_gen.to(\"kW/K\"): .2f}')"
   ]
  },
  {
   "cell_type": "code",
   "execution_count": null,
   "metadata": {},
   "outputs": [],
   "source": []
  }
 ],
 "metadata": {
  "kernelspec": {
   "display_name": "Python 3",
   "language": "python",
   "name": "python3"
  },
  "language_info": {
   "codemirror_mode": {
    "name": "ipython",
    "version": 3
   },
   "file_extension": ".py",
   "mimetype": "text/x-python",
   "name": "python",
   "nbconvert_exporter": "python",
   "pygments_lexer": "ipython3",
   "version": "3.6.10"
  }
 },
 "nbformat": 4,
 "nbformat_minor": 4
}

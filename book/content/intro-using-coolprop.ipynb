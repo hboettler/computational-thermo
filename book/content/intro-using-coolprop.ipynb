{
 "cells": [
  {
   "cell_type": "markdown",
   "metadata": {},
   "source": [
    "# Using CoolProp\n",
    "\n",
    "All of the examples in this book will use Cantera to handle the thermodynamic properties, but another option is to use [CoolProp](http://coolprop.org). \n",
    "CoolProp has a large database of equations of state and properties for [122 fluids](http://coolprop.org/fluid_properties/PurePseudoPure.html#list-of-fluids).\n",
    "\n",
    "You may need to install CoolProp, which you can do with `pip` or `conda`:\n",
    "```bash\n",
    "pip install coolprop\n",
    "```\n",
    "or\n",
    "```bash\n",
    "conda install --channel conda-forge coolprop\n",
    "```\n",
    "\n",
    "Once installed, we can import and then evaluate properties:"
   ]
  },
  {
   "cell_type": "markdown",
   "metadata": {
    "tags": [
     "popout",
     "margin"
    ]
   },
   "source": [
    "In some rare cases, we may need to rely on CoolProp to determine the thermodynamic state when Cantera does not support the combination of properties needed."
   ]
  },
  {
   "cell_type": "code",
   "execution_count": 6,
   "metadata": {},
   "outputs": [
    {
     "name": "stdout",
     "output_type": "stream",
     "text": [
      "Density:  996.56 kg/m^3\n",
      "Phase: liquid\n"
     ]
    }
   ],
   "source": [
    "import CoolProp.CoolProp as CP\n",
    "fluid = 'Water'\n",
    "\n",
    "temp = 300 # K\n",
    "pres = 101325 # Pa\n",
    "\n",
    "# Specify the temperature and pressure to fix the state\n",
    "density = CP.PropsSI('D', 'T', temp, 'P', pres, fluid)\n",
    "phase = CP.PhaseSI('T', temp, 'P', pres, fluid)\n",
    "\n",
    "print(f'Density: {density: .2f} kg/m^3')\n",
    "print(f'Phase: {phase}')"
   ]
  },
  {
   "cell_type": "markdown",
   "metadata": {},
   "source": [
    "CoolProp has a lot of fluids in its database. For example, we can examine the properties of toluene (C$_6$H$_5$CH$_3$), an aromatic hydrocarbon used as a solvent and also as an octane booster in fuels:"
   ]
  },
  {
   "cell_type": "markdown",
   "metadata": {
    "tags": [
     "popout",
     "margin"
    ]
   },
   "source": [
    "Check out CoolProp's [documentation](http://coolprop.org/coolprop/HighLevelAPI.html) for more examples, and a table of string inputs to the `PropsSI` function."
   ]
  },
  {
   "cell_type": "code",
   "execution_count": 12,
   "metadata": {},
   "outputs": [
    {
     "name": "stdout",
     "output_type": "stream",
     "text": [
      "Density:  2.42 kg/m^3\n",
      "Phase: gas\n"
     ]
    }
   ],
   "source": [
    "from pint import UnitRegistry\n",
    "ureg = UnitRegistry()\n",
    "Q_ = ureg.Quantity\n",
    "\n",
    "fluid = 'toluene'\n",
    "\n",
    "temp = Q_(200, 'degC')\n",
    "pres = Q_(1, 'atm')\n",
    "\n",
    "# Specify the temperature and pressure to fix the state\n",
    "density = CP.PropsSI(\n",
    "    'D', 'T', temp.to('K').magnitude, 'P', \n",
    "    pres.to('Pa').magnitude, fluid\n",
    "    )\n",
    "phase = CP.PhaseSI(\n",
    "    'T', temp.to('K').magnitude, \n",
    "    'P', pres.to('Pa').magnitude, fluid\n",
    "    )\n",
    "\n",
    "print(f'Density: {density: .2f} kg/m^3')\n",
    "print(f'Phase: {phase}')"
   ]
  }
 ],
 "metadata": {
  "celltoolbar": "Tags",
  "kernelspec": {
   "display_name": "Python 3",
   "language": "python",
   "name": "python3"
  },
  "language_info": {
   "codemirror_mode": {
    "name": "ipython",
    "version": 3
   },
   "file_extension": ".py",
   "mimetype": "text/x-python",
   "name": "python",
   "nbconvert_exporter": "python",
   "pygments_lexer": "ipython3",
   "version": "3.6.10"
  }
 },
 "nbformat": 4,
 "nbformat_minor": 4
}

{
 "cells": [
  {
   "cell_type": "markdown",
   "metadata": {},
   "source": [
    "# Properties of Pure Fluids\n"
   ]
  },
  {
   "cell_type": "code",
   "execution_count": 16,
   "metadata": {},
   "outputs": [],
   "source": [
    "import numpy as np\n",
    "import cantera as ct\n",
    "from pint import UnitRegistry\n",
    "ureg = UnitRegistry()\n",
    "Q_ = ureg.Quantity"
   ]
  },
  {
   "cell_type": "markdown",
   "metadata": {},
   "source": [
    "We can obtain critical properties of fluids using Cantera:"
   ]
  },
  {
   "cell_type": "code",
   "execution_count": 17,
   "metadata": {},
   "outputs": [
    {
     "name": "stdout",
     "output_type": "stream",
     "text": [
      "Critical temperature:  126.20 K\n",
      "Critical pressure:  3.40e+06 Pa\n",
      "Critical compressibility factor:  0.29\n"
     ]
    }
   ],
   "source": [
    "f = ct.Nitrogen()\n",
    "print(f'Critical temperature: {f.critical_temperature: .2f} K')\n",
    "print(f'Critical pressure: {f.critical_pressure: .2e} Pa')\n",
    "\n",
    "density_crit = f.critical_density\n",
    "mol_weight = f.mean_molecular_weight\n",
    "z_crit = (\n",
    "    f.critical_pressure * mol_weight / \n",
    "    (density_crit * ct.gas_constant * f.critical_temperature)\n",
    "    )\n",
    "print(f'Critical compressibility factor: {z_crit: .2f}')"
   ]
  },
  {
   "cell_type": "markdown",
   "metadata": {},
   "source": [
    "## van der Waals equation of state\n",
    "\n",
    "The van der Waals equation of state is\n",
    "\n",
    "$$\n",
    "P = \\frac{RT}{v - b} - \\frac{a}{v^2} \\;,\n",
    "$$\n",
    "\n",
    "where $a$ and $b$ are substance-specific constants.\n",
    "\n",
    "We can find these constants by applying the contraints on equations of state along the critical isotherms:\n",
    "\n",
    "$$\n",
    "\\left( \\frac{\\partial P}{\\partial v} \\right)_T = 0 \\\\\n",
    "\\left( \\frac{\\partial^2 P}{\\partial v^2} \\right)_T = 0 \\;,\n",
    "$$\n",
    "\n",
    "which both apply at the critical point. These will give us closed-form expressions for $a$ and $b$ based on the critical properties.\n",
    "\n",
    "Let's use SymPy to help us find these expressions, by taking these derivatives and applying the constraints at the critical point:"
   ]
  },
  {
   "cell_type": "code",
   "execution_count": 18,
   "metadata": {},
   "outputs": [
    {
     "data": {
      "text/latex": [
       "$\\displaystyle - \\frac{R T_{c}}{\\left(- b + v_{c}\\right)^{2}} + \\frac{2 a}{v_{c}^{3}} = 0$"
      ],
      "text/plain": [
       "     R⋅T_c      2⋅a     \n",
       "- ─────────── + ──── = 0\n",
       "            2      3    \n",
       "  (-b + v_c)    v_c     "
      ]
     },
     "metadata": {},
     "output_type": "display_data"
    },
    {
     "data": {
      "text/latex": [
       "$\\displaystyle \\frac{2 R T_{c}}{\\left(- b + v_{c}\\right)^{3}} - \\frac{6 a}{v_{c}^{4}} = 0$"
      ],
      "text/plain": [
       "  2⋅R⋅T_c     6⋅a     \n",
       "─────────── - ──── = 0\n",
       "          3      4    \n",
       "(-b + v_c)    v_c     "
      ]
     },
     "metadata": {},
     "output_type": "display_data"
    }
   ],
   "source": [
    "import sympy\n",
    "sympy.init_printing(use_latex='mathjax')\n",
    "\n",
    "R, Tc, vc, Pc, a, b = sympy.symbols('R, T_c, v_c, P_c, a, b', real=True)\n",
    "\n",
    "equation_state = (R*Tc)/(vc - b) - (a/vc**2)\n",
    "\n",
    "# first derivative with respect to v\n",
    "first_deriv = sympy.diff(equation_state, vc)\n",
    "display(sympy.Eq(first_deriv, 0))\n",
    "\n",
    "second_deriv = sympy.diff(first_deriv, vc)\n",
    "display(sympy.Eq(second_deriv, 0))"
   ]
  },
  {
   "cell_type": "markdown",
   "metadata": {},
   "source": [
    "Then, we can solve this system of two equations for our two unknowns:"
   ]
  },
  {
   "cell_type": "code",
   "execution_count": 19,
   "metadata": {},
   "outputs": [
    {
     "data": {
      "text/latex": [
       "$\\displaystyle \\left\\{ a : \\frac{9 R T_{c} v_{c}}{8}, \\  b : \\frac{v_{c}}{3}\\right\\}$"
      ],
      "text/plain": [
       "⎧   9⋅R⋅T_c⋅v_c     v_c⎫\n",
       "⎨a: ───────────, b: ───⎬\n",
       "⎩        8           3 ⎭"
      ]
     },
     "metadata": {},
     "output_type": "display_data"
    }
   ],
   "source": [
    "sol = sympy.solve((\n",
    "    first_deriv, \n",
    "    second_deriv, \n",
    "    ), (a, b), dict=True)\n",
    "\n",
    "display(sol[0])\n",
    "\n",
    "a_expr = sol[0][a]\n",
    "b_expr = sol[0][b]"
   ]
  },
  {
   "cell_type": "markdown",
   "metadata": {},
   "source": [
    "This gives us the coefficients $a$ and $b$ as a function of $T_{\\text{crit}}$, $P_{\\text{crit}}$, and $R$. However, while the critical temperature can be measured experimentally *relatively* easily, the critical specific volume is harder to measure accurately.\n",
    "\n",
    "So, we can introduce the equation of state applied at the critical point, \n",
    "\n",
    "$$\n",
    "P_{\\text{crit}} = \\frac{R T_{\\text{crit}}}{v_{\\text{crit}} - b} - \\frac{a}{v_{\\text{crit}}^2} \\;,\n",
    "$$\n",
    "\n",
    "and then solve the system of three equations for $a$, $b$, and $v_{\\text{crit}}$ to eliminate the critical specific volume:"
   ]
  },
  {
   "cell_type": "code",
   "execution_count": 21,
   "metadata": {},
   "outputs": [
    {
     "data": {
      "text/latex": [
       "$\\displaystyle \\left\\{ a : \\frac{27 R^{2} T_{c}^{2}}{64 P_{c}}, \\  b : \\frac{R T_{c}}{8 P_{c}}, \\  v_{c} : \\frac{3 R T_{c}}{8 P_{c}}\\right\\}$"
      ],
      "text/plain": [
       "⎧       2    2                        ⎫\n",
       "⎪   27⋅R ⋅T_c      R⋅T_c       3⋅R⋅T_c⎪\n",
       "⎨a: ──────────, b: ─────, v_c: ───────⎬\n",
       "⎪     64⋅P_c       8⋅P_c        8⋅P_c ⎪\n",
       "⎩                                     ⎭"
      ]
     },
     "metadata": {},
     "output_type": "display_data"
    }
   ],
   "source": [
    "sol = sympy.solve((\n",
    "    a - a_expr, b - b_expr, Pc - ((R*Tc / (vc-b)) - (a / vc**2))\n",
    "    ), (a, b, vc), dict=True)\n",
    "display(sol[0])"
   ]
  },
  {
   "cell_type": "markdown",
   "metadata": {},
   "source": [
    "Thus, we can now determine the coefficients $a$ and $b$ based on measured values of the critical temperature and pressure."
   ]
  },
  {
   "cell_type": "markdown",
   "metadata": {},
   "source": [
    "We can now use the equation of state to get $P = f(T,v)$, but what about determining $v$ based on $T$ and $P$? It turns out that the van der Waals equation of state gives a cubic function of $v$, which when expressed in terms of reduced properties is\n",
    "\\begin{equation}\n",
    "v_r^3 - \\left( \\frac{8}{3} \\frac{T_r}{P_r} + \\frac{1}{3} \\right) + \\frac{3}{P_r} v_r - \\frac{1}{P_r} = 0\n",
    "\\end{equation}\n",
    "This means that we need to find the roots of this cubic polynomial to get specific volume. As a consequence, there will be three roots and potential solutions for $v_r$.\n",
    "At minimum, we should only consider real roots; imaginary roots are not physically meaningful.\n",
    "\n",
    "First, consider when $T_r > 1.0$, such as for $T_r = 2.5$ and $P_r = 2.0$:"
   ]
  },
  {
   "cell_type": "code",
   "execution_count": 22,
   "metadata": {},
   "outputs": [
    {
     "name": "stdout",
     "output_type": "stream",
     "text": [
      "Roots: [3.25277894+0.j         0.20694386+0.33299993j 0.20694386-0.33299993j]\n",
      "Number of real roots: 1\n",
      "T_r =  2.50\n",
      "P_r =  2.00\n",
      "v_r =  3.253\n"
     ]
    }
   ],
   "source": [
    "temp_r = 2.5\n",
    "pres_r = 2.0\n",
    "coeffs = [\n",
    "    1.0, \n",
    "    -((8.0*temp_r / (3.0*pres_r)) + (1.0 / 3.0)),\n",
    "    3.0 / pres_r,\n",
    "    -1.0 / pres_r\n",
    "    ]\n",
    "roots = np.roots(coeffs)\n",
    "print(f'Roots: {roots}')\n",
    "# get only real roots\n",
    "roots = roots.real[np.abs(roots.imag)<1e-5]\n",
    "\n",
    "print(f'Number of real roots: {len(roots)}')\n",
    "\n",
    "print(f'T_r = {temp_r: .2f}')\n",
    "print(f'P_r = {pres_r: .2f}')\n",
    "\n",
    "reduced_volumes = ','.join([f'{vol_r: .3f}' for vol_r in roots])\n",
    "print(f'v_r = {reduced_volumes}')"
   ]
  },
  {
   "cell_type": "markdown",
   "metadata": {},
   "source": [
    "So, for temperatures above the critical temperature, there will be only one real value for reduced specific volume.\n",
    "\n",
    "But, if $T_r < 1$, we can get three real roots:"
   ]
  },
  {
   "cell_type": "code",
   "execution_count": 127,
   "metadata": {},
   "outputs": [
    {
     "name": "stdout",
     "output_type": "stream",
     "text": [
      "Number of real roots: 3\n",
      "T_r =  0.90\n",
      "P_r =  0.61\n",
      "v_r =  2.640, 1.017, 0.610\n"
     ]
    }
   ],
   "source": [
    "temp_r = 0.90\n",
    "pres_r = 0.61\n",
    "coeffs = [\n",
    "    1.0, \n",
    "    -((8.0*temp_r / (3.0*pres_r)) + (1.0 / 3.0)),\n",
    "    3.0 / pres_r,\n",
    "    -1.0 / pres_r\n",
    "    ]\n",
    "roots = np.roots(coeffs)\n",
    "roots = roots.real[np.abs(roots.imag)<1e-5]\n",
    "\n",
    "print(f'Number of real roots: {len(roots)}')\n",
    "\n",
    "print(f'T_r = {temp_r: .2f}')\n",
    "print(f'P_r = {pres_r: .2f}')\n",
    "\n",
    "reduced_volumes = ','.join([f'{vol_r: .3f}' for vol_r in roots])\n",
    "print(f'v_r = {reduced_volumes}')"
   ]
  },
  {
   "cell_type": "markdown",
   "metadata": {},
   "source": [
    "In this case, we need to apply some additional knowledge to understand these roots and identify any non-physical values, such as considering the sign of $\\frac{\\partial P_r}{\\partial v_r}$ for these points."
   ]
  }
 ],
 "metadata": {
  "kernelspec": {
   "display_name": "Python 3 (ipykernel)",
   "language": "python",
   "name": "python3"
  },
  "language_info": {
   "codemirror_mode": {
    "name": "ipython",
    "version": 3
   },
   "file_extension": ".py",
   "mimetype": "text/x-python",
   "name": "python",
   "nbconvert_exporter": "python",
   "pygments_lexer": "ipython3",
   "version": "3.8.12"
  }
 },
 "nbformat": 4,
 "nbformat_minor": 4
}

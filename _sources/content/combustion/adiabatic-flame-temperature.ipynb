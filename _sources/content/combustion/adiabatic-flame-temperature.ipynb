{
 "cells": [
  {
   "cell_type": "markdown",
   "metadata": {},
   "source": [
    "# Adiabatic flame temperature\n",
    "\n",
    "Consider a stoichiometric mixture of ethane (C$_2$H$_6$) and air at 25°C and 1 atm.\n",
    "Calculate the adiabatic flame temperature, assuming complete combustion.\n",
    "\n",
    "![Control volume for adiabatic flame temperature](../../images/adiabatic-flame-temperature.png)\n",
    "\n",
    "We can find the adiabatic flame temperature by performing a steady-state energy balance on this system:\n",
    "\\begin{equation}\n",
    "H_{\\text{reactants}} = Q_{\\text{out}} + H_{\\text{products}}\n",
    "\\end{equation}\n",
    "where $H$ is the total enthalpy and $Q_{\\text{out}} = 0$ is the (zero) heat release.\n",
    "\n",
    "First, we need to determine the composition of the products."
   ]
  },
  {
   "cell_type": "code",
   "execution_count": 3,
   "metadata": {},
   "outputs": [],
   "source": [
    "import numpy as np\n",
    "import cantera as ct\n",
    "from scipy.optimize import root_scalar\n",
    "\n",
    "from pint import UnitRegistry\n",
    "ureg = UnitRegistry()\n",
    "Q_ = ureg.Quantity"
   ]
  },
  {
   "cell_type": "markdown",
   "metadata": {},
   "source": [
    "```{margin}\n",
    "Hat tip to [Dr. Bryan Weber](https://bryanwweber.com) for suggesting this shortcut!\n",
    "```"
   ]
  },
  {
   "cell_type": "code",
   "execution_count": 4,
   "metadata": {},
   "outputs": [],
   "source": [
    "# for convenience:\n",
    "def to_si(quant):\n",
    "    '''Converts a Pint Quantity to magnitude at base SI units.\n",
    "    '''\n",
    "    return quant.to_base_units().magnitude"
   ]
  },
  {
   "cell_type": "markdown",
   "metadata": {},
   "source": [
    "The combustion reaction is\n",
    "\\begin{equation}\n",
    "\\text{C}_2 \\text{H}_6 + a (0.21 \\text{O}_2 + 0.79 \\text{N}_2) \\rightarrow b \\text{CO}_2 + c \\text{H}_2 \\text{O} + d \\text{N}_2\n",
    "\\end{equation}\n",
    "and we can solve for the stoichiometric coefficients $a$, $b$, $c$, and $d$ by performing elemental balances:"
   ]
  },
  {
   "cell_type": "code",
   "execution_count": 6,
   "metadata": {},
   "outputs": [
    {
     "name": "stdout",
     "output_type": "stream",
     "text": [
      "a= 16.667, b= 2.00, c= 3.00, d= 13.167\n"
     ]
    }
   ],
   "source": [
    "b = 2.0\n",
    "c = 6.0 / 2.0\n",
    "a = (2*b + c) / (2*0.21)\n",
    "d = (a*0.79*2) / 2.0\n",
    "print(f'a={a: .3f}, b={b: .2f}, c={c: .2f}, d={d: .3f}')"
   ]
  },
  {
   "cell_type": "markdown",
   "metadata": {},
   "source": [
    "So the stoichiometric reaction is\n",
    "\\begin{equation}\n",
    "\\text{C}_2 \\text{H}_6 + 16.667 (0.21 \\text{O}_2 + 0.79 \\text{N}_2) \\rightarrow 2 \\text{CO}_2 + 3 \\text{H}_2 \\text{O} + 13.167 \\text{N}_2\n",
    "\\end{equation}\n",
    "\n",
    "We can then use these stoichiometric coefficients in our energy balance:\n",
    "\n",
    "$$\n",
    "\\begin{aligned}\n",
    "\\sum_{i=1}^{N_R} n_i \\overline{h}_{i} ( T_{\\text{in}}, P) = \\sum_{i=1}^{N_P} n_i \\overline{h}_{i} (T_{\\text{out}}, P)\n",
    "\\end{aligned}\n",
    "$$\n",
    "\n",
    "where $N_R$ and $N_P$ are the numbers of reactants and products, $T_{\\text{in}}$ is the inlet temperature, $P$ is the pressure, $\\overline{h}_{i}$ is the standard molar enthalpy of a particular species $i$, and $T_{\\text{out}}$ is the unknown final temperature.\n",
    "\n",
    "We can find that temperature by setting this up as a root-finding problem to find temperature."
   ]
  },
  {
   "cell_type": "code",
   "execution_count": 7,
   "metadata": {},
   "outputs": [],
   "source": [
    "pressure = Q_(1, 'atm')\n",
    "temperature_in = Q_(25, 'degC')\n",
    "\n",
    "# calculate inlet enthalpies for each species\n",
    "gas = ct.Solution('gri30.cti')\n",
    "gas.TPX = to_si(temperature_in), to_si(pressure), 'C2H6:1.0'\n",
    "enthalpy_c2h6 = gas.enthalpy_mole\n",
    "\n",
    "gas.TPX = to_si(temperature_in), to_si(pressure), 'N2:1.0'\n",
    "enthalpy_n2 = gas.enthalpy_mole\n",
    "\n",
    "gas.TPX = to_si(temperature_in), to_si(pressure), 'O2:1.0'\n",
    "enthalpy_o2 = gas.enthalpy_mole\n",
    "\n",
    "enthalpy_reactants = (\n",
    "    enthalpy_c2h6 + a * (0.21 * enthalpy_o2 + 0.79 * enthalpy_n2)\n",
    "    )"
   ]
  },
  {
   "cell_type": "markdown",
   "metadata": {
    "tags": [
     "margin"
    ]
   },
   "source": [
    "```{margin} Important note\n",
    "Make sure you use the `enthalpy_mole` attribute for the specific enthalpy on a molar basis. Using the `h` shortcut attribute provides specific enthalpy on a *mass* basis (which you can also get with `enthalpy_mass`). Generally it's a good idea to access properties using their explicit naming.\n",
    "```"
   ]
  },
  {
   "cell_type": "code",
   "execution_count": 8,
   "metadata": {},
   "outputs": [
    {
     "name": "stdout",
     "output_type": "stream",
     "text": [
      "Adiabatic flame temperature:  2379.21 K\n"
     ]
    }
   ],
   "source": [
    "def get_flame_temp(temp, pressure, enthalpy_reactants, gas):    \n",
    "    gas.TPX = temp, pressure, 'CO2:1.0'\n",
    "    enthalpy_co2 = gas.enthalpy_mole\n",
    "    \n",
    "    gas.TPX = temp, pressure, 'H2O:1.0'\n",
    "    enthalpy_h2o = gas.enthalpy_mole\n",
    "    \n",
    "    gas.TPX = temp, pressure, 'N2:1.0'\n",
    "    enthalpy_n2 = gas.enthalpy_mole\n",
    "    \n",
    "    return (\n",
    "        2.0*enthalpy_co2 + 3.0*enthalpy_h2o + 13.167*enthalpy_n2 - \n",
    "        enthalpy_reactants\n",
    "        )\n",
    "    \n",
    "gas = ct.Solution('gri30.cti')\n",
    "\n",
    "sol = root_scalar(\n",
    "    get_flame_temp,\n",
    "    x0=1000., x1=2000.,\n",
    "    args=(to_si(pressure), enthalpy_reactants, gas)\n",
    "    )\n",
    "\n",
    "print(f'Adiabatic flame temperature: {sol.root: .2f} K')"
   ]
  },
  {
   "cell_type": "markdown",
   "metadata": {},
   "source": [
    "## Solve using mixtures\n",
    "\n",
    "We can also solve this problem by representing the reactants and products as mixtures, using the `Solution` class and giving the numbers of moles as input for mole fractions, `X`. (These will be automatically normalized to sum to 1.0).\n",
    "\n",
    "The molar enthalpies of the reactants and products are then just the molar enthalpies of the mixtures.\n",
    "\n",
    "One catch: to ensure the results match, we need to ensure that we multiply the molar enthalpy of each mixture by the number of moles of each, since *total* enthalpy is conserved rather than specific enthalpy."
   ]
  },
  {
   "cell_type": "code",
   "execution_count": 9,
   "metadata": {},
   "outputs": [],
   "source": [
    "gas = ct.Solution('gri30.cti')\n",
    "gas.TPX = (\n",
    "    to_si(temperature_in), to_si(pressure),\n",
    "    'C2H6:1.0, O2:3.5, N2:13.167'\n",
    "    )\n",
    "\n",
    "# Multiply the mixture specific enthalpy by \n",
    "# the total number of moles.\n",
    "total_moles = 1.0 + 3.5 + 13.167\n",
    "enthalpy_reactants = gas.enthalpy_mole * total_moles"
   ]
  },
  {
   "cell_type": "code",
   "execution_count": 10,
   "metadata": {},
   "outputs": [
    {
     "name": "stdout",
     "output_type": "stream",
     "text": [
      "Adiabatic flame temperature:  2379.21 K\n"
     ]
    }
   ],
   "source": [
    "def get_flame_temp(temp, pressure, enthalpy_in, gas):\n",
    "    gas.TPX = (\n",
    "        temp, pressure, \n",
    "        'CO2:2.0, H2O:3.0, N2:13.167'\n",
    "        )\n",
    "    # Multiply the mixture specific enthalpy by \n",
    "    # the total number of moles.\n",
    "    total_moles = 2.0 + 3.0 + 13.167\n",
    "    enthalpy_products = gas.enthalpy_mole * total_moles\n",
    "        \n",
    "    return (enthalpy_products - enthalpy_in)\n",
    "    \n",
    "gas = ct.Solution('gri30.cti')\n",
    "\n",
    "sol = root_scalar(\n",
    "    get_flame_temp,\n",
    "    x0=1000., x1=2000.,\n",
    "    args=(to_si(pressure), enthalpy_reactants, gas)\n",
    "    )\n",
    "\n",
    "print(f'Adiabatic flame temperature: {sol.root: .2f} K')"
   ]
  },
  {
   "cell_type": "markdown",
   "metadata": {},
   "source": [
    "As expected, we get the same solution using this approach, but with significantly less coding effort."
   ]
  },
  {
   "cell_type": "markdown",
   "metadata": {},
   "source": [
    "## Compare to Cantera solution\n",
    "\n",
    "Lastly, we can also find the adiabatic flame temperature by using the built-in `equilibrate()` method provided by the `Solution` class. \n",
    "\n",
    "Given an initial state, this finds the equilibrium state (composition and temperature) while holding two properties constant. For the adiabatic flame temperature, we hold enthalpy and pressure constant (`equilibrate('HP')`).\n",
    "\n",
    "To ensure that only the species involved in stoichiometric, complete combustion are considered, we also need to construct a new mixture object that only contains the fuel, oxygen, nitrogen, carbon dioxide, and water."
   ]
  },
  {
   "cell_type": "code",
   "execution_count": 11,
   "metadata": {},
   "outputs": [
    {
     "name": "stdout",
     "output_type": "stream",
     "text": [
      "Adiabatic flame temperature:  2379.85 K\n",
      "Moles of species at equilibrium:\n",
      "C2H6   2.304e-08\n",
      "O2     8.065e-08\n",
      "CO2    2.001e+00\n",
      "H2O    3.001e+00\n",
      "N2     1.317e+01\n"
     ]
    }
   ],
   "source": [
    "# Get all of the Species objects defined in the GRI 3.0 mechanism\n",
    "species = {S.name: S for S in ct.Species.listFromFile('gri30.cti')}\n",
    "\n",
    "# Create an IdealGas object with species representing complete combustion\n",
    "complete_species = [species[S] for S in ('C2H6','O2','CO2','H2O','N2')]\n",
    "gas = ct.Solution(thermo='IdealGas', species=complete_species)\n",
    "\n",
    "gas.TP = to_si(temperature_in), to_si(pressure)\n",
    "gas.set_equivalence_ratio(1.0, 'C2H6', 'O2:1, N2:3.76')\n",
    "gas.equilibrate('HP')\n",
    "\n",
    "\n",
    "# for comparing to the other solutions\n",
    "num_moles = 2.0 + 3.0 + 13.167\n",
    "\n",
    "print(f'Adiabatic flame temperature: {gas.T: .2f} K')\n",
    "\n",
    "print('Moles of species at equilibrium:')\n",
    "for sp, mole_fraction in zip(gas.species_names, gas.X):\n",
    "    print(f'{sp:4}  {mole_fraction*num_moles: 5.3e}')"
   ]
  },
  {
   "cell_type": "markdown",
   "metadata": {},
   "source": [
    "This result is extremely close to what we obtained previously; the temperature is slightly different due to the (very) small amounts of reactants still present at equilibrium."
   ]
  }
 ],
 "metadata": {
  "celltoolbar": "Tags",
  "kernelspec": {
   "display_name": "Python 3 (ipykernel)",
   "language": "python",
   "name": "python3"
  },
  "language_info": {
   "codemirror_mode": {
    "name": "ipython",
    "version": 3
   },
   "file_extension": ".py",
   "mimetype": "text/x-python",
   "name": "python",
   "nbconvert_exporter": "python",
   "pygments_lexer": "ipython3",
   "version": "3.8.12"
  }
 },
 "nbformat": 4,
 "nbformat_minor": 4
}

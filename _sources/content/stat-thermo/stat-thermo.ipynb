{
 "cells": [
  {
   "cell_type": "markdown",
   "metadata": {},
   "source": [
    "# Statistical Thermodynamics"
   ]
  },
  {
   "cell_type": "markdown",
   "metadata": {
    "tags": [
     "epigraph"
    ]
   },
   "source": [
    "> Ludwig Boltzmann, who spent much of his life studying statistical mechanics, died in 1906, by his own hand. Paul Ehrenfest, carrying on the work, died similiarly in 1933. Now it is our turn to study statistical mechanics.\n",
    ">\n",
    "> Perhaps it will be wise to approach the subject cautiously.\n",
    ">\n",
    "> - David L. Goodstein, *States of Matter* {cite}`Goodstein1985`"
   ]
  },
  {
   "cell_type": "code",
   "execution_count": null,
   "metadata": {},
   "outputs": [],
   "source": []
  }
 ],
 "metadata": {
  "celltoolbar": "Tags",
  "kernelspec": {
   "display_name": "Python 3",
   "language": "python",
   "name": "python3"
  },
  "language_info": {
   "codemirror_mode": {
    "name": "ipython",
    "version": 3
   },
   "file_extension": ".py",
   "mimetype": "text/x-python",
   "name": "python",
   "nbconvert_exporter": "python",
   "pygments_lexer": "ipython3",
   "version": "3.6.10"
  }
 },
 "nbformat": 4,
 "nbformat_minor": 4
}

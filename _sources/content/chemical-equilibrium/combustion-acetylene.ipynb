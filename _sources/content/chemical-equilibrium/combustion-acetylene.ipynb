{
 "cells": [
  {
   "cell_type": "markdown",
   "metadata": {},
   "source": [
    "# Adiabatic combustion of acetylene\n",
    "\n",
    "Acetylene (C$_2$H$_2$) gas is combusted with 110% theoretical air in a torch at atmospheric pressure; both the acetylene and air are supplied at 25°C. The torch is adiabatic and the products emerge at a high temperature and atmospheric pressure.\n",
    "\n",
    "At high temperatures, nitrogen can dissociate, and the resulting nitrogen radical can react with oxygen to form nitrogen oxides (NO and NO$_2$).\n",
    "\n",
    "In addition, the acetylene could be converted to C$_2$H$_4$ or CH$_4$.\n",
    "\n",
    "Thus, at equilibrium, the gases that may be present include C$_2$H$_2$, C$_2$H$_4$, CH$_4$, CO, CO$_2$, H$_2$ H$_2$O, O$_2$, N$_2$, NO, and NO$_2$.\n",
    "\n",
    "**Problem:**\n",
    "\n",
    "- Find the temperature and composition of the products, assuming the reaction proceeds to completion.\n",
    "- Find the temperature and composition of the products, assuming that the reaction(s) proceed to the equilibrium condition.\n",
    "- Compare the adiabatic flame temperatures calculated using complete combustion and chemical equilibrium, for a range of theoretical air values between 0.75 and 2.0."
   ]
  },
  {
   "cell_type": "code",
   "execution_count": 237,
   "metadata": {},
   "outputs": [],
   "source": [
    "import numpy as np\n",
    "import cantera as ct\n",
    "from scipy.optimize import root, root_scalar\n",
    "\n",
    "from pint import UnitRegistry\n",
    "ureg = UnitRegistry()\n",
    "Q_ = ureg.Quantity\n",
    "\n",
    "# for convenience:\n",
    "def to_si(quant):\n",
    "    '''Converts a Pint Quantity to magnitude at base SI units.\n",
    "    '''\n",
    "    return quant.to_base_units().magnitude"
   ]
  },
  {
   "cell_type": "code",
   "execution_count": 256,
   "metadata": {},
   "outputs": [],
   "source": [
    "import matplotlib.pyplot as plt\n",
    "%matplotlib inline\n",
    "\n",
    "# these are mostly for making the saved figures nicer\n",
    "from IPython.display import set_matplotlib_formats\n",
    "set_matplotlib_formats('pdf', 'png')\n",
    "plt.rcParams['figure.dpi']= 150\n",
    "plt.rcParams['savefig.dpi'] = 150"
   ]
  },
  {
   "cell_type": "code",
   "execution_count": 239,
   "metadata": {},
   "outputs": [],
   "source": [
    "# given data\n",
    "\n",
    "temperature_initial = Q_(25, 'degC').to('K')\n",
    "pressure = Q_(1, 'atm')\n",
    "\n",
    "theoretical_air = 1.1"
   ]
  },
  {
   "cell_type": "markdown",
   "metadata": {},
   "source": [
    "## Complete combustion products\n",
    "\n",
    "To determine the composition and temperature of the products, assuming the combustion of acetylene proceeds to completion, we need to:\n",
    "\n",
    "1. Determine the stoichiometric coefficients of the products for stoichiometric, rich (excess fuel), and lean (excess air) mixtures; this will give the composition of the products based on the initial composition.\n",
    "2. Perform an energy balance on the system, which we can use to determine the unknown final temperature.\n",
    "\n",
    "The stoichiometric reaction of acetylene in air, assuming complete combustion, is\n",
    "\n",
    "$$\n",
    "\\text{C}_2 \\text{H}_2 + a_s \\left( 0.21 \\text{O}_2 + 0.79 \\text{N}_2 \\right) \\leftrightarrow b_s \\text{CO}_2 + c_s \\text{H}_2 \\text{O} + d_s \\text{N}_2\n",
    "$$"
   ]
  },
  {
   "cell_type": "code",
   "execution_count": 240,
   "metadata": {},
   "outputs": [],
   "source": [
    "def get_stoich_coeffs(x):\n",
    "    \"\"\"Calculate coefficients for stoichiometric reaction\"\"\"\n",
    "    a_s, b_s, c_s, d_s = x\n",
    "    return [\n",
    "        2 - b_s, # carbon balance\n",
    "        2 - 2 * c_s, # hydrogen balance\n",
    "        2 * 0.21 * a_s - (2 * b_s + c_s), # oxygen balance\n",
    "        2 * 0.79 * a_s - 2 * d_s, # nitrogen balance\n",
    "    ]"
   ]
  },
  {
   "cell_type": "code",
   "execution_count": 241,
   "metadata": {},
   "outputs": [],
   "source": [
    "sol = root(get_stoich_coeffs, [1, 1, 1, 1])\n",
    "coeffs_stoich = sol.x"
   ]
  },
  {
   "cell_type": "markdown",
   "metadata": {},
   "source": [
    "For varying amounts of air, the complete combustion reaction is\n",
    "\n",
    "$$\n",
    "\\text{C}_2 \\text{H}_2 + a \\left( 0.21 \\text{O}_2 + 0.79 \\text{N}_2 \\right) \\leftrightarrow b \\text{CO}_2 + c \\text{H}_2 \\text{O} + d \\text{N}_2 + e \\text{O}_2 + f \\text{C}_2 \\text{H}_2\n",
    "$$\n",
    "\n",
    "When the theoretical air is < 1 (i.e., the mixture is rich), then there will be leftover fuel in the products but no oxygen; when the theoretical air is > 1 (i.e., the mixture is lean), then there will be leftover oxygen in the products but no fuel.\n",
    "If the theoretical air is = 1, then there will be no leftover oxygen or fuel in the products.\n",
    "\n",
    "We can design a function to solve for the complete combustion coefficients in any of these cases:"
   ]
  },
  {
   "cell_type": "code",
   "execution_count": 242,
   "metadata": {},
   "outputs": [],
   "source": [
    "def get_coeffs(x, theoretical_air, coeffs_stoich_air):\n",
    "    \"\"\"Calculate coefficients for complete combustion\"\"\"\n",
    "    a, b, c, d, e, f = x\n",
    "    \n",
    "    equations = [\n",
    "        a - theoretical_air * coeffs_stoich_air, # theoretical air\n",
    "        2 - (b + 2 * f), # carbon\n",
    "        2 - (2 * c + 2 * f), # hydrogen\n",
    "        0.79 * 2 * a - 2 * d, # nitrogen\n",
    "    ]\n",
    "    \n",
    "    # If rich, no oxygen remaining.\n",
    "    # If lean, no fuel remaining.\n",
    "    # If balanced, no oxygen or fuel remaining\n",
    "    if theoretical_air < 1.0:\n",
    "        equations += [\n",
    "            0.21 * 2 * a - (2 * b + c + 2 * e), # oxygen\n",
    "            e,\n",
    "        ]\n",
    "    elif theoretical_air > 1.0:\n",
    "        equations += [\n",
    "            0.21 * 2 * a - (2 * b + c + 2 * e), # oxygen\n",
    "            f,\n",
    "        ]\n",
    "    else:\n",
    "        equations += [\n",
    "            f,\n",
    "            e,\n",
    "        ]\n",
    "    \n",
    "    return equations"
   ]
  },
  {
   "cell_type": "code",
   "execution_count": 243,
   "metadata": {
    "scrolled": true
   },
   "outputs": [],
   "source": [
    "# calculate coefficients for this particular case\n",
    "\n",
    "coeffs_stoich_air = coeffs_stoich[0]\n",
    "\n",
    "sol = root(\n",
    "    get_coeffs, \n",
    "    [1, 1, 1, 1, 1, 0], \n",
    "    args=(theoretical_air, coeffs_stoich_air)\n",
    "    )\n",
    "\n",
    "coeffs = sol.x\n",
    "# contents: coefficients of air, CO2, H2O, N2, O2, C2H2"
   ]
  },
  {
   "cell_type": "code",
   "execution_count": 244,
   "metadata": {},
   "outputs": [],
   "source": [
    "# Get all of the Species objects defined in the GRI 3.0 mechanism\n",
    "species = {S.name: S for S in ct.Species.listFromFile('gri30.cti')}\n",
    "\n",
    "# Create an IdealGas object with species representing complete combustion\n",
    "complete_species = ['C2H2', 'O2', 'N2', 'CO2', 'H2O']\n",
    "gas = ct.Solution(\n",
    "    thermo='IdealGas', \n",
    "    species=[species[S] for S in complete_species]\n",
    "    )"
   ]
  },
  {
   "cell_type": "code",
   "execution_count": 245,
   "metadata": {},
   "outputs": [],
   "source": [
    "def get_temperature_complete(temperature, temperature_initial, \n",
    "                             pressure, coeffs, gas\n",
    "                             ):\n",
    "    \"\"\"Calculate adiabatic flame temperature for complete combustion\"\"\"    \n",
    "    # reactants\n",
    "    gas.TPX = to_si(temperature_initial), to_si(pressure), 'C2H2:1.0'\n",
    "    enthalpy_c2h2 = gas.enthalpy_mole\n",
    "    \n",
    "    # only change the composition\n",
    "    gas.TPX = None, None, 'O2:1.0'\n",
    "    enthalpy_o2 = gas.enthalpy_mole\n",
    "\n",
    "    gas.TPX = None, None, 'N2:1.0'\n",
    "    enthalpy_n2 = gas.enthalpy_mole\n",
    "    \n",
    "    enthalpy_reactants = (\n",
    "        enthalpy_c2h2 + \n",
    "        coeffs[0] * (0.21 * enthalpy_o2 + 0.79 * enthalpy_n2)\n",
    "    )\n",
    "    \n",
    "    # products\n",
    "    gas.TPX = temperature, to_si(pressure), 'C2H2:1.0'\n",
    "    enthalpy_c2h2 = gas.enthalpy_mole\n",
    "\n",
    "    gas.TPX = None, None, 'O2:1.0'\n",
    "    enthalpy_o2 = gas.enthalpy_mole\n",
    "\n",
    "    gas.TPX = None, None, 'N2:1.0'\n",
    "    enthalpy_n2 = gas.enthalpy_mole\n",
    "    \n",
    "    gas.TPX = None, None, 'CO2:1.0'\n",
    "    enthalpy_co2 = gas.enthalpy_mole\n",
    "    \n",
    "    gas.TPX = None, None, 'H2O:1.0'\n",
    "    enthalpy_h2o = gas.enthalpy_mole\n",
    "    \n",
    "    enthalpy_products = (\n",
    "        coeffs[1] * enthalpy_co2 + coeffs[2] * enthalpy_h2o +\n",
    "        coeffs[3] * enthalpy_n2 + coeffs[4] * enthalpy_o2 + \n",
    "        coeffs[5] * enthalpy_c2h2\n",
    "        )\n",
    "    \n",
    "    return enthalpy_reactants - enthalpy_products"
   ]
  },
  {
   "cell_type": "code",
   "execution_count": 246,
   "metadata": {},
   "outputs": [
    {
     "name": "stdout",
     "output_type": "stream",
     "text": [
      "Temperature (complete combustion):  2720.2 K\n",
      "Mole fractions in products:\n",
      "CO2:  0.147\n",
      "H2O:  0.074\n",
      "N2:  0.761\n",
      "O2:  0.018\n",
      "C2H2:  0.000\n"
     ]
    }
   ],
   "source": [
    "sol = root_scalar(\n",
    "    get_temperature_complete, \n",
    "    x0=2000, x1=3000,\n",
    "    args=(temperature_initial, pressure, coeffs, gas)\n",
    "    )\n",
    "print(f'Temperature (complete combustion): {sol.root: .1f} K')\n",
    "\n",
    "moles_products = (\n",
    "    coeffs[1] + coeffs[2] + coeffs[3] + coeffs[4] + coeffs[5]\n",
    "    )\n",
    "mole_fractions = coeffs[1:] / moles_products\n",
    "print('Mole fractions in products:')\n",
    "print(f'CO2: {mole_fractions[0]: .3f}')\n",
    "print(f'H2O: {mole_fractions[1]: .3f}')\n",
    "print(f'N2: {mole_fractions[2]: .3f}')\n",
    "print(f'O2: {mole_fractions[3]: .3f}')\n",
    "print(f'C2H2: {mole_fractions[4]: .3f}')"
   ]
  },
  {
   "cell_type": "code",
   "execution_count": 247,
   "metadata": {},
   "outputs": [],
   "source": [
    "# Calculate final temperature for range of theoretical air\n",
    "\n",
    "theoretical_airs_complete = np.linspace(0.75, 2.0, 51)\n",
    "temperatures_complete = np.zeros(len(theoretical_airs_complete))\n",
    "\n",
    "for idx, theoretical_air in enumerate(theoretical_airs_complete):\n",
    "    # get species coefficients\n",
    "    sol = root(get_coeffs, \n",
    "               [1, 1, 1, 1, 1, 0], \n",
    "               args=(theoretical_air, coeffs_stoich_air)\n",
    "                )\n",
    "    coeffs = sol.x\n",
    "    \n",
    "    # get temperature\n",
    "    sol = root_scalar(\n",
    "        get_temperature_complete, \n",
    "        x0=2000, x1=3000,\n",
    "        args=(temperature_initial, pressure, coeffs, gas)\n",
    "        )\n",
    "    \n",
    "    temperatures_complete[idx] = sol.root"
   ]
  },
  {
   "cell_type": "markdown",
   "metadata": {},
   "source": [
    "## Equilibrium products\n",
    "\n",
    "Now, we need to consider all the possible gases that could be present in the products when the mixture has reached chemical equilibrium.\n",
    "\n",
    "To find the amounts of each gas and the temperature, we'll need to use the Lagrange method of undetermined multipliers."
   ]
  },
  {
   "cell_type": "code",
   "execution_count": 248,
   "metadata": {},
   "outputs": [],
   "source": [
    "# species that may be present in products at equilibrium\n",
    "species_list = [\n",
    "    'C2H2', 'O2', 'N2', 'H2O', 'CO2', \n",
    "    'CH4', 'C2H4', 'CO', 'H2', 'NO', 'NO2',\n",
    "    ]\n",
    "\n",
    "# Get all of the Species objects defined in the GRI 3.0 mechanism\n",
    "species = {S.name: S for S in ct.Species.listFromFile('gri30.cti')}\n",
    "\n",
    "# Create an IdealGas object with all species involved\n",
    "gas = ct.Solution(\n",
    "    thermo='IdealGas', \n",
    "    species=[species[S] for S in species_list]\n",
    "    )\n",
    "\n",
    "# Elemental makeup of components\n",
    "elemental_comp = np.array([\n",
    "    [2, 0, 0, 2, 0, 4, 4, 0, 2, 0, 0], # hydrogen\n",
    "    [0, 2, 0, 1, 2, 0, 0, 1, 0, 1, 2], # oxygen\n",
    "    [0, 0, 2, 0, 0, 0, 0, 0, 0, 1, 1], # nitrogen\n",
    "    [2, 0, 0, 0, 1, 1, 2, 1, 0, 0, 0], # carbon\n",
    "    ])\n",
    "\n",
    "theoretical_air = 1.1\n",
    "\n",
    "moles_initial = np.zeros(len(species_list))\n",
    "moles_initial[0] = 1.0\n",
    "moles_initial[1] = coeffs_stoich_air * theoretical_air * 0.21\n",
    "moles_initial[2] = coeffs_stoich_air * theoretical_air * 0.79"
   ]
  },
  {
   "cell_type": "code",
   "execution_count": 249,
   "metadata": {},
   "outputs": [],
   "source": [
    "def lagrange_system(x, temperature_initial, pressure, components, gas, \n",
    "                    elemental_comp, moles_initial\n",
    "                    ):\n",
    "    '''System of equations for reaction coordinate and equilibrium composition.\n",
    "    '''\n",
    "    num_components = len(components)\n",
    "    \n",
    "    moles = x[0 : num_components]\n",
    "    multipliers = x[num_components : -1]\n",
    "    temperature = x[-1]\n",
    "    \n",
    "    mole_fractions = moles / np.sum(moles)\n",
    "    \n",
    "    # get standard-state Gibbs free energy and enthalpy of each component\n",
    "    gibbs = np.zeros(len(components))\n",
    "    enthalpies_final = np.zeros(len(components))\n",
    "    enthalpies_initial = np.zeros(len(components))\n",
    "    for idx, comp in enumerate(components):\n",
    "        gas.TPX = (\n",
    "            temperature, ct.one_atm,\n",
    "            f'{comp}:1.0'\n",
    "            )\n",
    "        gibbs[idx] = gas.gibbs_mole\n",
    "        enthalpies_final[idx] = gas.enthalpy_mole\n",
    "        \n",
    "        gas.TPX = (\n",
    "            to_si(temperature_initial), ct.one_atm,\n",
    "            f'{comp}:1.0'\n",
    "            )\n",
    "        enthalpies_initial[idx] = gas.enthalpy_mole\n",
    "    \n",
    "    # Calculate the chemical potentials at current pressure and temperature\n",
    "    gas_constant = ct.gas_constant\n",
    "    chemical_potentials = (\n",
    "        gibbs + gas_constant * temperature * np.log(\n",
    "            mole_fractions * to_si(pressure) / ct.one_atm\n",
    "            )\n",
    "        )\n",
    "    \n",
    "    # molar amounts of each element\n",
    "    # base SI units are in mol, not kmol, after conversion\n",
    "    initial_moles_elements = np.dot(elemental_comp, moles_initial)\n",
    "    moles_elements = np.dot(elemental_comp, moles)\n",
    "    \n",
    "    enthalpy_initial = np.dot(moles_initial, enthalpies_initial)\n",
    "    enthalpy_final = np.dot(moles, enthalpies_final)\n",
    "    \n",
    "    # We can take advantage of element-wise operations with these arrays,\n",
    "    # and concisely evaluate all the equations\n",
    "    element_equations = moles_elements - initial_moles_elements\n",
    "    multiplier_equations = (\n",
    "        chemical_potentials + \n",
    "        np.dot(multipliers, elemental_comp)\n",
    "        )\n",
    "    \n",
    "    # Return the set of equations joined together\n",
    "    #\n",
    "    # The equations for the multipliers and enthalpy are scaled\n",
    "    # to match the order of magnitude of the moles\n",
    "    return np.concatenate((\n",
    "        element_equations, multiplier_equations / 1e8, \n",
    "        [(enthalpy_final - enthalpy_initial) / 1e8]\n",
    "        ))"
   ]
  },
  {
   "cell_type": "code",
   "execution_count": 252,
   "metadata": {
    "scrolled": true
   },
   "outputs": [
    {
     "name": "stderr",
     "output_type": "stream",
     "text": [
      "/usr/local/miniconda3/envs/jupyterbook/lib/python3.6/site-packages/ipykernel_launcher.py:36: RuntimeWarning: invalid value encountered in log\n"
     ]
    },
    {
     "name": "stdout",
     "output_type": "stream",
     "text": [
      "Temperature (equilibrium): 2507.34 kelvin\n",
      "Mole fractions in products:\n",
      "C2H2:  0.000\n",
      "O2:  0.029\n",
      "N2:  0.746\n",
      "H2O:  0.070\n",
      "CO2:  0.118\n",
      "CH4:  0.000\n",
      "C2H4:  0.000\n",
      "CO:  0.027\n",
      "H2:  0.003\n",
      "NO:  0.008\n",
      "NO2:  0.000\n"
     ]
    }
   ],
   "source": [
    "# initial guesses\n",
    "x0 = [0.5] * len(species_list) + [1e8, 1e8, 1e8, 1e8, 2500]\n",
    "\n",
    "sol = root(\n",
    "    lagrange_system, x0, method='lm', \n",
    "    args=(temperature_initial, pressure, species_list, gas,\n",
    "          elemental_comp, moles_initial\n",
    "          ),\n",
    "    options={'maxiter': 5000},\n",
    "    )\n",
    "    \n",
    "temperature_final = Q_(sol.x[-1], 'K')\n",
    "print(f'Temperature (equilibrium): {temperature_final: .2f}')\n",
    "\n",
    "moles = sol.x[0 : len(species_list)]\n",
    "mole_fractions = moles / sum(moles)\n",
    "\n",
    "print('Mole fractions in products:')\n",
    "for sp, val in zip(species_list, mole_fractions):\n",
    "    print(f'{sp}: {val: .3f}')"
   ]
  },
  {
   "cell_type": "markdown",
   "metadata": {},
   "source": [
    "Comparing with the results found assuming complete combustion, we see that the temperature is lower, and we have a noticeable amount of CO in the products, along with some H$_2$ and NO.\n",
    "\n",
    "The temperature is lower than the complete-combustion temperature mostly due to the presence of CO in the products; CO oxidation into CO$_2$ is responsible for much of the heat release in combustion."
   ]
  },
  {
   "cell_type": "code",
   "execution_count": 253,
   "metadata": {
    "scrolled": true
   },
   "outputs": [
    {
     "name": "stderr",
     "output_type": "stream",
     "text": [
      "/usr/local/miniconda3/envs/jupyterbook/lib/python3.6/site-packages/ipykernel_launcher.py:36: RuntimeWarning: invalid value encountered in log\n"
     ]
    }
   ],
   "source": [
    "# calculate for range of theoretical air\n",
    "\n",
    "theoretical_airs = np.linspace(0.75, 2.0, 21)\n",
    "temperatures = np.zeros(len(theoretical_airs))\n",
    "\n",
    "for idx, theoretical_air in enumerate(theoretical_airs):\n",
    "    moles_initial = np.zeros(len(species_list))\n",
    "    moles_initial[0] = 1.0\n",
    "    moles_initial[1] = coeffs_stoich_air * theoretical_air * 0.21\n",
    "    moles_initial[2] = coeffs_stoich_air * theoretical_air * 0.79\n",
    "    \n",
    "    x0 = [0.5] * len(species_list) + [1e8, 1e8, 1e8, 1e8, 2500]\n",
    "\n",
    "    sol = root(\n",
    "        lagrange_system, x0, method='lm', \n",
    "        args=(temperature_initial, pressure, species_list, gas,\n",
    "              elemental_comp, moles_initial\n",
    "              ),\n",
    "        options={'maxiter': 5000},\n",
    "        )\n",
    "    \n",
    "    temperatures[idx] = sol.x[-1]"
   ]
  },
  {
   "cell_type": "markdown",
   "metadata": {},
   "source": [
    "We can also use Cantera's equilibrium solver to find the final temperature; this should produce very similar values found using the Lagrange method."
   ]
  },
  {
   "cell_type": "code",
   "execution_count": 254,
   "metadata": {},
   "outputs": [],
   "source": [
    "theoretical_airs = np.linspace(0.75, 2.0, 21)\n",
    "temperatures_cantera = np.zeros(len(theoretical_airs))\n",
    "\n",
    "for idx, theoretical_air in enumerate(theoretical_airs):\n",
    "    moles_initial = np.zeros(len(species_list))\n",
    "    moles_initial[1] = coeffs_stoich_air * theoretical_air * 0.21\n",
    "    moles_initial[2] = coeffs_stoich_air * theoretical_air * 0.79\n",
    "    \n",
    "    gas.TPX = (\n",
    "        to_si(temperature_initial), to_si(pressure),\n",
    "        'C2H2: 1.0, '\n",
    "        f'O2: {coeffs_stoich_air * theoretical_air * 0.21: .3f}, '\n",
    "        f'N2: {coeffs_stoich_air * theoretical_air * 0.79: .3f}'\n",
    "        )\n",
    "\n",
    "    gas.equilibrate('HP')\n",
    "    temperatures_cantera[idx] = gas.T"
   ]
  },
  {
   "cell_type": "code",
   "execution_count": 257,
   "metadata": {},
   "outputs": [
    {
     "data": {
      "application/pdf": "[encoded data removed]",
      "image/png": "[encoded data removed]",
      "text/plain": [
       "<Figure size 900x600 with 1 Axes>"
      ]
     },
     "metadata": {
      "needs_background": "light"
     },
     "output_type": "display_data"
    }
   ],
   "source": [
    "plt.plot(theoretical_airs_complete, temperatures_complete, label='Complete combustion')\n",
    "plt.plot(theoretical_airs, temperatures, label='Equilibrium')\n",
    "plt.plot(theoretical_airs, temperatures_cantera, 'o', label='Cantera')\n",
    "\n",
    "plt.xlabel('Theoretical air')\n",
    "plt.ylabel('Temperature (K)')\n",
    "\n",
    "plt.grid(True)\n",
    "plt.legend()\n",
    "plt.tight_layout()\n",
    "plt.show()"
   ]
  },
  {
   "cell_type": "markdown",
   "metadata": {},
   "source": [
    "As expected, the equilibrium calculations based on the Lagrange multiplier method and Cantera agree very closely, while the complete-combustion calculation differs significantly at lower values of excess air.\n",
    "\n",
    "All three methods agree fairly well at higher percentages of excess air, because more excess air leads to smaller production of carbon monoxide and hydrogen."
   ]
  }
 ],
 "metadata": {
  "kernelspec": {
   "display_name": "Python 3",
   "language": "python",
   "name": "python3"
  },
  "language_info": {
   "codemirror_mode": {
    "name": "ipython",
    "version": 3
   },
   "file_extension": ".py",
   "mimetype": "text/x-python",
   "name": "python",
   "nbconvert_exporter": "python",
   "pygments_lexer": "ipython3",
   "version": "3.6.10"
  }
 },
 "nbformat": 4,
 "nbformat_minor": 4
}

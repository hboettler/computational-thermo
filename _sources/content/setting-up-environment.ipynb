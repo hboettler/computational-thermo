{
 "cells": [
  {
   "cell_type": "markdown",
   "metadata": {},
   "source": [
    "# Setting up your computing environment\n",
    "\n",
    "You have a few options for running these examples and solving other problems using the approaches shown:\n",
    "\n",
    " - Install and use Python and a text editor or integrated development environment (IDE), like [Spyder](https://www.spyder-ide.org), on your computer\n",
    " - Install and use Jupyter Notebooks on your computer\n",
    " - Use a (free) cloud Jupyter Notebook environment like [Google Colab](https://colab.research.google.com), [Microsoft Azure Notebooks](https://notebooks.azure.com), or [Binder](https://mybinder.org)\n",
    "\n",
    "Using Python and Jupyter Notebooks on your computer require essentially the same setup, which is slightly different for different operating systems. The steps following this assume you are planning to use Jupyter Notebook.\n",
    "\n",
    "\n"
   ]
  },
  {
   "cell_type": "markdown",
   "metadata": {
    "tags": [
     "popout",
     "margin"
    ]
   },
   "source": [
    "```{margin} miniconda\n",
    "Rather than installing the full Anaconda distribution, you could choose to install [Miniconda](https://docs.conda.io/en/latest/miniconda.html), which is a minimal installer for conda. In this case, you would need to explicitly install all the packages you need.\n",
    "```"
   ]
  },
  {
   "cell_type": "markdown",
   "metadata": {
    "tags": [
     "popout",
     "margin"
    ]
   },
   "source": [
    "```{margin}\n",
    "**Important:** You will need to reactivate your environment every time you restart Anaconda.\n",
    "```"
   ]
  },
  {
   "cell_type": "markdown",
   "metadata": {},
   "source": [
    "## Installing Jupyter\n",
    "\n",
    "1. I recommend you [install Anaconda](https://docs.anaconda.com/anaconda/install/) to manage your Python environment—it makes installing and managing packages very easy, and works on macOS, Linux, and Windows.\n",
    "\n",
    "2. Create and activate an environment (for example, called `thermo`) for Jupyter with Python 3.7. From the command line for Linux and macOS, or the Anaconda Prompt on Windows, run:\n",
    "\n",
    "```bash\n",
    "$ conda create -vv --name thermo --channel cantera --channel conda-forge python=3.7 cantera pint coolprop jupyter ipython numpy scipy matplotlib\n",
    "$ conda activate thermo\n",
    "```\n",
    "\n",
    "Before the second command, you may need to tell your shell (e.g., bash, zsh) about conda, by doing `conda init zsh` for example. If you get an error with the `conda activate` command, your terminal should tell you to do this.\n",
    "\n",
    "You should activate this environment whenever you want to use these packages.\n",
    "\n",
    "4. Run Jupyter Notebook:\n",
    "\n",
    "```bash\n",
    "$ jupyter notebook\n",
    "```\n",
    "\n",
    "and create a new Python 3 notebook with \"New\" then \"Python 3\" under \"Notebook:\"."
   ]
  },
  {
   "cell_type": "markdown",
   "metadata": {},
   "source": [
    "## Cloud Jupyter Notebook Environments\n",
    "\n",
    "If you cannot or prefer not to install Anaconda/Python/Jupyter on your computer, you can use one of a number of cloud Jupyter Notebook environments to run these examples and do your work. Major options include:\n",
    "\n",
    " - [Google Colab](#Google-Colab)\n",
    " - [Binder](#Binder)\n",
    " - [Microsoft Azure Notebooks](#Microsoft-Azure-Notebooks)\n",
    " - [DataLore](#Datalore)\n",
    " "
   ]
  },
  {
   "cell_type": "markdown",
   "metadata": {},
   "source": [
    "### Google Colab\n",
    "\n",
    "[Google Colab](https://colab.research.google.com) (Colaboratory) is a nice, newer service connected to your Google account that offers free computation time.\n",
    "\n",
    "In a new notebook, you need to first install Cantera:\n",
    "```bash\n",
    "!apt-get -qq update -y\n",
    "!apt-get -qq install -y python3-software-properties\n",
    "!apt-add-repository -y ppa:speth/cantera > /dev/null 2>&1\n",
    "!apt-get -qq install -y cantera-python3\n",
    "```\n",
    "and then additional packages like Pint and CoolProp:\n",
    "```bash\n",
    "!pip install -q pint coolprop\n",
    "```\n",
    "\n",
    "Or, click this link to open a notebook that includes these commands: [![Open In Colab](https://colab.research.google.com/assets/colab-badge.svg)](https://colab.research.google.com/github/kyleniemeyer/computational-thermo/blob/master/colab-demo.ipynb)\n",
    "\n",
    "(Other common packages like NumPy and SciPy should already be available.)"
   ]
  },
  {
   "cell_type": "markdown",
   "metadata": {},
   "source": [
    "### Binder\n",
    "\n",
    "[Binder](https://mybinder.org) is a service that runs Jupyter Notebooks online, and can automatically create an environment based on a configuration file:\n",
    "\n",
    "1. Visit https://mybinder.org\n",
    "2. Enter the URL for this textbook: https://github.com/kyleniemeyer/computational-thermo\n",
    "3. Click the \"launch\" button.\n",
    "\n",
    "Or, just use this link: [![Binder](https://mybinder.org/badge_logo.svg)](https://mybinder.org/v2/gh/kyleniemeyer/computational-thermo/master)"
   ]
  },
  {
   "cell_type": "markdown",
   "metadata": {},
   "source": [
    "### Microsoft Azure Notebooks\n",
    "\n",
    "With [Microsoft Azure Notebooks](https://notebooks.azure.com/), after signing in with your Microsoft or Outlook account, you can create a \"project\" which contains one or more notebooks, text files, data, etc.\n",
    "\n",
    "In a new Python 3 notebook, you can install Cantera, Pint, and CoolProp in the first cell using:\n",
    "```bash\n",
    "!conda install -y --channel cantera cantera\n",
    "!pip install pint coolprop\n",
    "```\n",
    "(This may take some time.)"
   ]
  },
  {
   "cell_type": "markdown",
   "metadata": {},
   "source": [
    "### DataLore\n",
    "\n",
    "[DataLore](https://datalore.io) is a new and slightly different service that is still under development. Rather than support Jupyter Notebooks directly, they have developed their own implementation of a Python-based notebook.\n",
    "\n",
    "Although DataLore workbooks come with many common packages installed (e.g., NumPy, SciPy, Matplotlib), it is a bit more challenging to install other packages:\n",
    "\n",
    " 1. Go to \"Tools\" → \"Library Manager\"\n",
    " 2. In \"All Libraries\", search for the package you want to install. For example, you can install `pint` and `coolprop`.\n",
    " 3. In the search results, choose the correct package, then from the dropdown next to the \"Install\" button choose the latest version available (this should already be selected).\n",
    " 4. Click the \"Install\" button. After a few moments, the package should be accessible in your workbook.\n",
    " 5. Repeat for other packages as needed.\n",
    " \n",
    "To solve thermodynamics problems, you'll need to install CoolProp at minimum.\n",
    " \n",
    "Unfortunately, it is not clear how to install Cantera at the moment, so DataLore may be limited. The behavior is also a bit different than expected with Jupyter notebooks regarding work between different cells, since DataLore is more strict about executing cells in order and tracking dependency—it automatically updates any cells that depend on variables that change in the current cell.\n",
    "\n",
    "This information will be updated as DataLore evolves and more documentation is available. "
   ]
  }
 ],
 "metadata": {
  "celltoolbar": "Tags",
  "file_extension": ".py",
  "kernelspec": {
   "display_name": "Python 3",
   "language": "python",
   "name": "python3"
  },
  "language_info": {
   "codemirror_mode": {
    "name": "ipython",
    "version": 3
   },
   "file_extension": ".py",
   "mimetype": "text/x-python",
   "name": "python",
   "nbconvert_exporter": "python",
   "pygments_lexer": "ipython3",
   "version": "3.6.10"
  },
  "mimetype": "text/x-python",
  "name": "python",
  "npconvert_exporter": "python",
  "pygments_lexer": "ipython3",
  "version": 3
 },
 "nbformat": 4,
 "nbformat_minor": 2
}

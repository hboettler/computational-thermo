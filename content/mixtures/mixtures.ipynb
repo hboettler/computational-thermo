{
 "cells": [
  {
   "cell_type": "markdown",
   "metadata": {},
   "source": [
    "# Mixture properties\n",
    "\n",
    "Let's consider a mixture of two gases, and evaluate how the different approaches to approximating mixture properties perform.\n",
    "\n",
    "We have a mixture of methane (CH$_4$) and butane (C$_4$H$_{10}$), in a container of volume 0.241 m$^3$. If the mixture is at 238°C, calculate the pressure. The container includes 0.18 kmol of methane and 0.474 kmol of butane.\n",
    "\n",
    "The experimentally determined mixture pressure is 68.9 bar.\n",
    "\n",
    "We'll need to use CoolProp to find properties of the pure fluids (since Cantera does not currently include butane), so let's import the necessary modules and specify the known data:"
   ]
  },
  {
   "cell_type": "code",
   "execution_count": 2,
   "metadata": {},
   "outputs": [],
   "source": [
    "import numpy as np\n",
    "from CoolProp.CoolProp import PropsSI\n",
    "\n",
    "from pint import UnitRegistry\n",
    "ureg = UnitRegistry()\n",
    "Q_ = ureg.Quantity\n",
    "\n",
    "gas_constant = Q_(PropsSI('gas_constant', 'methane'), 'J/(mol*K)')"
   ]
  },
  {
   "cell_type": "code",
   "execution_count": 59,
   "metadata": {},
   "outputs": [],
   "source": [
    "temp = Q_(238, 'degC').to('K')\n",
    "volume = Q_(0.241, 'm^3')\n",
    "\n",
    "pres_exp = Q_(68.9, 'bar')\n",
    "\n",
    "moles_methane = Q_(0.18, 'kmol')\n",
    "moles_butane = Q_(0.274, 'kmol')"
   ]
  },
  {
   "cell_type": "markdown",
   "metadata": {},
   "source": [
    "We can first evaluate the mass fractions of the components ($x_i$) and the molar specific volume of the mixture:\n",
    "\\begin{align}\n",
    "x_i &= \\frac{n_i}{n} \\\\\n",
    "\\bar{v} &= \\frac{V}{n}\n",
    "\\end{align}"
   ]
  },
  {
   "cell_type": "code",
   "execution_count": 4,
   "metadata": {},
   "outputs": [
    {
     "name": "stdout",
     "output_type": "stream",
     "text": [
      "Molar specific volume: 0.531 meter ** 3 / kilomole\n"
     ]
    }
   ],
   "source": [
    "total_moles = moles_methane + moles_butane\n",
    "\n",
    "x_methane = (moles_methane / total_moles).magnitude\n",
    "x_butane = (moles_butane / total_moles).magnitude\n",
    "\n",
    "specific_vol_molar = volume / total_moles\n",
    "print(f'Molar specific volume: {specific_vol_molar: .3f}')"
   ]
  },
  {
   "cell_type": "markdown",
   "metadata": {},
   "source": [
    "## Ideal gas\n",
    "\n",
    "First, we can try calculating the pressure of the mixture using the ideal gas law:\n",
    "\\begin{equation}\n",
    "P = \\frac{R T}{\\bar{v}}\n",
    "\\end{equation}"
   ]
  },
  {
   "cell_type": "code",
   "execution_count": 5,
   "metadata": {},
   "outputs": [
    {
     "name": "stdout",
     "output_type": "stream",
     "text": [
      "Pressure (ideal gas law): 80.06 bar\n"
     ]
    }
   ],
   "source": [
    "pres_ideal = gas_constant * temp / specific_vol_molar\n",
    "print(f'Pressure (ideal gas law): {pres_ideal.to(\"bar\"): .2f}')"
   ]
  },
  {
   "cell_type": "markdown",
   "metadata": {},
   "source": [
    "## Kay's rule\n",
    "\n",
    "Kay's rule is the simplest mixing rule, which uses pseudo-critical properties based on values weighted by mole fractions. These are used to calculate the compressibility factor, which can in turn be used to obtain pressure:\n",
    "\\begin{align}\n",
    "T_c &= \\sum_i T_{c,i} x_i \\\\\n",
    "P_c &= \\sum_i P_{c,i} x_i \\\\\n",
    "\\end{align}\n",
    "Then, we treat the mixture as if it is a pure component with the above critical values, and obtain the reduced temperature and (molar) specific volume:\n",
    "\\begin{align}\n",
    "T_r &= \\frac{T}{T_c} \\\\\n",
    "v_r &= \\frac{\\bar{v} P_c}{R_u t_c}\n",
    "\\end{align}"
   ]
  },
  {
   "cell_type": "code",
   "execution_count": 35,
   "metadata": {},
   "outputs": [
    {
     "name": "stdout",
     "output_type": "stream",
     "text": [
      "Methane critical properties: \n",
      "T = 190.56 kelvin, P = 45.99 bar\n",
      "Butane critical properties: \n",
      "T = 425.12 kelvin, P = 37.96 bar\n"
     ]
    }
   ],
   "source": [
    "# for methane\n",
    "temp_crit_methane = Q_(PropsSI('Tcrit', 'methane'), 'K')\n",
    "pres_crit_methane = Q_(PropsSI('Pcrit', 'methane'), 'Pa')\n",
    "molarmass_methane = Q_(PropsSI('molar_mass', 'methane'), 'kg/mol')\n",
    "\n",
    "print('Methane critical properties: ')\n",
    "print(f'T = {temp_crit_methane: .2f}, '\n",
    "      f'P = {pres_crit_methane.to(\"bar\"): .2f}'\n",
    "      )\n",
    "\n",
    "# for butane\n",
    "temp_crit_butane = Q_(PropsSI('Tcrit', 'butane'), 'K')\n",
    "pres_crit_butane = Q_(PropsSI('Pcrit', 'butane'), 'Pa')\n",
    "molarmass_butane = Q_(PropsSI('molar_mass', 'butane'), 'kg/mol')\n",
    "\n",
    "print('Butane critical properties: ')\n",
    "print(f'T = {temp_crit_butane: .2f}, '\n",
    "      f'P = {pres_crit_butane.to(\"bar\"): .2f}'\n",
    "      )"
   ]
  },
  {
   "cell_type": "code",
   "execution_count": 27,
   "metadata": {},
   "outputs": [
    {
     "name": "stdout",
     "output_type": "stream",
     "text": [
      "Pseudo critical temperature: 332.13 kelvin\n",
      "Pseudo critical pressure: 41.14 bar\n",
      "T_red = 1.54 dimensionless\n",
      "v_red = 0.791 dimensionless\n"
     ]
    }
   ],
   "source": [
    "temp_crit = (\n",
    "    temp_crit_methane * x_methane + \n",
    "    temp_crit_butane * x_butane\n",
    "    )\n",
    "pres_crit = (\n",
    "    pres_crit_methane * x_methane + \n",
    "    pres_crit_butane * x_butane\n",
    "    )\n",
    "\n",
    "print(f'Pseudo critical temperature: {temp_crit: .2f}')\n",
    "print(f'Pseudo critical pressure: {pres_crit.to(\"bar\"): .2f}')\n",
    "\n",
    "temp_red = (temp / temp_crit)\n",
    "print(f'T_red = {temp_red: .2f}')\n",
    "\n",
    "vol_red = (\n",
    "    (specific_vol_molar * pres_crit) / \n",
    "    (gas_constant * temp_crit)\n",
    "    ).to_base_units()\n",
    "print(f'v_red = {vol_red: .3f}')"
   ]
  },
  {
   "cell_type": "markdown",
   "metadata": {},
   "source": [
    "With the reduced temperature and specific volume, we can refer to a generalized compressibility chart (or function), which specifies the compressiblity factor as a function of reduced temperature, reduced pressure, and/or reduced specific volume for general gas mixtures. For example, see the following figures:"
   ]
  },
  {
   "cell_type": "markdown",
   "metadata": {
    "tags": [
     "full_width"
    ]
   },
   "source": [
    "<figure>\n",
    "  <center>\n",
    "  <img src=\"compressibility-chart-Pr-less-1.png\" alt=\"Generalized compressibility chart, reduced pressure less than 1.0\" style=\"width: 600px;\"/>\n",
    "  <figcaption>Figure: Generalized compressibility chart for reduced pressures less than 1.0. Original source: E. F. Obert, <em>Concepts of Thermodynamics</em>, McGraw-Hill, New York, 1960.</figcaption>\n",
    "  </center>\n",
    "</figure>\n",
    "\n",
    "<figure>\n",
    "  <center>\n",
    "  <img src=\"compressibility-chart-Pr-less-10.png\" alt=\"Generalized compressibility chart, reduced pressure less than 10\" style=\"width: 600px;\"/>\n",
    "  <figcaption>Figure: Generalized compressibility chart for reduced pressures less than 10.0. Original source: E. F. Obert, <em>Concepts of Thermodynamics</em>, McGraw-Hill, New York, 1960.</figcaption>\n",
    "  </center>\n",
    "</figure>\n",
    "\n",
    "<figure>\n",
    "  <center>\n",
    "  <img src=\"compressibility-chart-Pr-10-40.png\" alt=\"Generalized compressibility chart, reduced pressure between 10-40\" style=\"width: 600px;\"/>\n",
    "  <figcaption>Figure: Generalized compressibility chart for reduced pressures between 10-40. Original source: E. F. Obert, <em>Concepts of Thermodynamics</em>, McGraw-Hill, New York, 1960.</figcaption>\n",
    "  </center>\n",
    "</figure>"
   ]
  },
  {
   "cell_type": "markdown",
   "metadata": {},
   "source": [
    "If we inspect this closely and perform some visual interpolation, we can find that the compressiblity factor is approximately 0.88.\n",
    "\n",
    "Finally, using this, we can calculate the pressure by using the relationship for compressibility factor:\n",
    "\\begin{equation}\n",
    "P = Z \\frac{R_u T}{\\bar{v}}\n",
    "\\end{equation}"
   ]
  },
  {
   "cell_type": "code",
   "execution_count": 32,
   "metadata": {},
   "outputs": [
    {
     "name": "stdout",
     "output_type": "stream",
     "text": [
      "Pressure (Kay's rule): 70.45 bar\n"
     ]
    }
   ],
   "source": [
    "# from chart\n",
    "compress_factor = 0.88\n",
    "\n",
    "pres_kay = (\n",
    "    compress_factor * gas_constant * \n",
    "    temp / specific_vol_molar\n",
    "    )\n",
    "print(f\"Pressure (Kay's rule): {pres_kay.to('bar'): .2f}\")"
   ]
  },
  {
   "cell_type": "markdown",
   "metadata": {
    "tags": [
     "popout"
    ]
   },
   "source": [
    "Source of mixing rules for the van der Waals and Redlich–Kwong–Soave EOS: Soave, G. (1972). \"Equilibrium constants from a modified Redlich–Kwong equation of state,\" *Chemical Engineering Science*, 27(6), 1197-1203. https://doi.org/10.1016/0009-2509(72)80096-4"
   ]
  },
  {
   "cell_type": "markdown",
   "metadata": {},
   "source": [
    "## van der Waals\n",
    "\n",
    "We can obtain the coefficients $a$ and $b$ used in the van der Waals equation of state for the mixture by using these relations:\n",
    "\\begin{align}\n",
    "a &= \\left( \\sum_{i=1} x_i \\, a_i^{1/2} \\right)^2 \\\\\n",
    "b &=  \\sum_{i=1} x_i \\, b_i  \\;,\n",
    "\\end{align}\n",
    "which were proposed by Soave (1972).\n",
    "\n",
    "These are then used in the equation of state\n",
    "\\begin{equation}\n",
    "P = \\frac{R_u T}{\\bar{v} - b} - \\frac{a}{\\bar{v}^2} \n",
    "\\end{equation}"
   ]
  },
  {
   "cell_type": "code",
   "execution_count": 49,
   "metadata": {},
   "outputs": [
    {
     "name": "stdout",
     "output_type": "stream",
     "text": [
      "methane:\n",
      "a = 2.303 bar * meter ** 6 / kilomole ** 2, b = 0.0431 meter ** 3 / kilomole\n",
      "a = 13.886 bar * meter ** 6 / kilomole ** 2, b = 0.1164 meter ** 3 / kilomole\n"
     ]
    }
   ],
   "source": [
    "# We can calculate the coefficients for each gas\n",
    "# using the relations for the van der Waals equation of\n",
    "# state\n",
    "\n",
    "print('methane:')\n",
    "a_methane = (\n",
    "    27. * (gas_constant * temp_crit_methane)**2 /\n",
    "    (64. * pres_crit_methane)\n",
    "    )\n",
    "b_methane = (\n",
    "    gas_constant * temp_crit_methane / \n",
    "    (8. * pres_crit_methane)\n",
    "    )\n",
    "print(f'a = {a_methane.to(\"bar * (m^3/kmol)**2\"): .3f}, '\n",
    "      f'b = {b_methane.to(\"m^3/(kmol)\"): .4f}'\n",
    "      )\n",
    "\n",
    "a_butane = (\n",
    "    27. * (gas_constant * temp_crit_butane)**2 /\n",
    "    (64. * pres_crit_butane)\n",
    "    )\n",
    "b_butane = (\n",
    "    gas_constant * temp_crit_butane / \n",
    "    (8. * pres_crit_butane)\n",
    "    )\n",
    "print(f'a = {a_butane.to(\"bar * (m^3/kmol)**2\"): .3f}, '\n",
    "      f'b = {b_butane.to(\"m^3/(kmol)\"): .4f}'\n",
    "      )"
   ]
  },
  {
   "cell_type": "code",
   "execution_count": 58,
   "metadata": {},
   "outputs": [
    {
     "name": "stdout",
     "output_type": "stream",
     "text": [
      "Pressure (van der Waals): 66.99 bar\n"
     ]
    }
   ],
   "source": [
    "a_mix = (\n",
    "    x_methane * np.sqrt(a_methane) + \n",
    "    x_butane * np.sqrt(a_butane)\n",
    "    )**2\n",
    "b_mix = x_methane * b_methane + x_butane * b_butane\n",
    "\n",
    "pres_vanderwaal = (\n",
    "    gas_constant * temp / (specific_vol_molar - b_mix) - \n",
    "    a_mix / specific_vol_molar**2\n",
    "    )\n",
    "print(f'Pressure (van der Waals): {pres_vanderwaal.to(\"bar\"): .2f}')"
   ]
  },
  {
   "cell_type": "markdown",
   "metadata": {},
   "source": [
    "## Comparison\n",
    "\n",
    "Now, let's compare the accuracy of each mixture model against the experimentally observed pressure:"
   ]
  },
  {
   "cell_type": "code",
   "execution_count": 64,
   "metadata": {},
   "outputs": [
    {
     "name": "stdout",
     "output_type": "stream",
     "text": [
      "Error of ideal gas:  16.20%\n",
      "Error of Kays rule:  2.26%\n",
      "Error of van der Waal mixture: -2.78%\n"
     ]
    }
   ],
   "source": [
    "error_ideal = (\n",
    "    100 * (pres_ideal - pres_exp) / pres_exp\n",
    "    ).to_base_units()\n",
    "error_kay = (\n",
    "    100 * (pres_kay - pres_exp) / pres_exp\n",
    "    ).to_base_units()\n",
    "error_vdw = (\n",
    "    100 * (pres_vanderwaal - pres_exp) / pres_exp\n",
    "    ).to_base_units()\n",
    "\n",
    "print(f'Error of ideal gas: {error_ideal.magnitude: .2f}%')\n",
    "print(f'Error of Kays rule: {error_kay.magnitude: .2f}%')\n",
    "print(f'Error of van der Waal mixture: {error_vdw.magnitude: .2f}%')"
   ]
  },
  {
   "cell_type": "markdown",
   "metadata": {},
   "source": [
    "So, the using the ideal gas equation of state for this mixture gives a value larger than the experimental value by over 16%, while using Kay's rule and the van der Waals equation for mixtures give values a bit under 3% above and below the experimental value."
   ]
  },
  {
   "cell_type": "code",
   "execution_count": null,
   "metadata": {},
   "outputs": [],
   "source": []
  }
 ],
 "metadata": {
  "celltoolbar": "Tags",
  "kernelspec": {
   "display_name": "Python 3",
   "language": "python",
   "name": "python3"
  },
  "language_info": {
   "codemirror_mode": {
    "name": "ipython",
    "version": 3
   },
   "file_extension": ".py",
   "mimetype": "text/x-python",
   "name": "python",
   "nbconvert_exporter": "python",
   "pygments_lexer": "ipython3",
   "version": "3.7.6"
  }
 },
 "nbformat": 4,
 "nbformat_minor": 4
}

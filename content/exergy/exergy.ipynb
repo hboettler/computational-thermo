{
 "cells": [
  {
   "cell_type": "markdown",
   "metadata": {},
   "source": [
    "# Exergy\n",
    "\n",
    "Exergy, also known as \"available work\", is the maximum theoretical work obtainable from a system and its energy interactions with the surrounding environment, based on the thermodynamic state (Rant 1956)."
   ]
  },
  {
   "cell_type": "markdown",
   "metadata": {},
   "source": [
    "## Bibliography\n",
    "\n",
    "Rant, Z. (1956). Exergie, Ein neues Wort für \"technische Arbeitsfähigkeit.\" *Forschung Auf dem Gebiete des Ingenieurwesens,* 22(1), 36–37. https://doi.org/10.1007/bf02592661"
   ]
  }
 ],
 "metadata": {
  "kernelspec": {
   "display_name": "Python 3",
   "language": "python",
   "name": "python3"
  },
  "language_info": {
   "codemirror_mode": {
    "name": "ipython",
    "version": 3
   },
   "file_extension": ".py",
   "mimetype": "text/x-python",
   "name": "python",
   "nbconvert_exporter": "python",
   "pygments_lexer": "ipython3",
   "version": "3.7.6"
  }
 },
 "nbformat": 4,
 "nbformat_minor": 4
}

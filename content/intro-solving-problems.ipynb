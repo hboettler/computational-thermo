{
 "cells": [
  {
   "cell_type": "markdown",
   "metadata": {},
   "source": [
    "# Introduction\n",
    "\n",
    "This is an interactive [Jupyter Book](https://jupyterbook.org/intro.html) containing example problems in thermodynamics, in the format of Jupyter notebooks, developed to supplement the course ME 540, Intermediate Thermodynamics, taught at [Oregon State University](https://oregonstate.edu) by [Prof. Kyle Niemeyer](https://mime.oregonstate.edu/people/kyle-niemeyer).\n",
    "\n",
    "These example problems are adapted from those given in the (excellent) textbook *Thermodynamics* by Sanford Klein and Gregory Nellis (2017, Cambridge University Press, 3rd edition). The original examples and problems in this book were solved using EES (Engineering Equation Solver), while the examples here use Python combined with [Cantera](https://cantera.org) and the [SciPy](https://www.scipy.org) ecosystem of packages, along with [Pint](https://pint.readthedocs.io) for converting units.\n",
    "All artwork here is original.\n",
    "\n",
    "\n",
    "## Solving thermodynamics problems\n",
    "\n",
    "This module introduces how to solve thermodynamics problems in Python using Cantera and Pint. It will also briefly show how [CoolProp](http://coolprop.org) could also be used, if you need access to a wider range of fluids than Cantera currently supports.\n",
    "\n",
    "First, we need to import the necessary libraries:"
   ]
  },
  {
   "cell_type": "code",
   "execution_count": 1,
   "metadata": {},
   "outputs": [],
   "source": [
    "# Numpy adds some useful numerical types and functions\n",
    "import numpy as np\n",
    "\n",
    "# Cantera will handle thermodynamic properties\n",
    "import cantera as ct\n",
    "\n",
    "# Pint gives us some helpful unit conversion\n",
    "from pint import UnitRegistry\n",
    "ureg = UnitRegistry()\n",
    "Q_ = ureg.Quantity # We will use this to construct quantities (value + unit)"
   ]
  },
  {
   "cell_type": "markdown",
   "metadata": {},
   "source": [
    "## Quick Pint intro\n",
    "\n"
   ]
  },
  {
   "cell_type": "code",
   "execution_count": 81,
   "metadata": {},
   "outputs": [
    {
     "name": "stdout",
     "output_type": "stream",
     "text": [
      "\n",
      "  water:\n",
      "\n",
      "       temperature          673.15  K\n",
      "          pressure     1.99362e+07  Pa\n",
      "           density             100  kg/m^3\n",
      "  mean mol. weight          18.016  amu\n",
      "    vapor fraction               1\n",
      "\n",
      "                          1 kg            1 kmol\n",
      "                       -----------      ------------\n",
      "          enthalpy    -1.31504e+07       -2.369e+08     J\n",
      "   internal energy    -1.33497e+07       -2.405e+08     J\n",
      "           entropy         9078.37        1.636e+05     J/K\n",
      "    Gibbs function    -1.92615e+07        -3.47e+08     J\n",
      " heat capacity c_p         6284.65        1.132e+05     J/K\n",
      " heat capacity c_v         2693.99        4.853e+04     J/K\n",
      "\n"
     ]
    }
   ],
   "source": [
    "# Water\n",
    "f = ct.Water()\n",
    "\n",
    "# specify temperature and specific volume, in SI units\n",
    "f.TV = 673.15, 1e-2\n",
    "f()"
   ]
  },
  {
   "cell_type": "markdown",
   "metadata": {},
   "source": [
    "Using Cantera to get fluid properties, for R134a:"
   ]
  },
  {
   "cell_type": "code",
   "execution_count": 40,
   "metadata": {},
   "outputs": [
    {
     "name": "stdout",
     "output_type": "stream",
     "text": [
      "\n",
      "  hfc134a:\n",
      "\n",
      "       temperature             325  K\n",
      "          pressure          250000  Pa\n",
      "           density         9.80674  kg/m^3\n",
      "  mean mol. weight         102.032  amu\n",
      "    vapor fraction               1\n",
      "\n",
      "                          1 kg            1 kmol\n",
      "                       -----------      ------------\n",
      "          enthalpy          245639        2.506e+07     J\n",
      "   internal energy          220146        2.246e+07     J\n",
      "           entropy         1629.17        1.662e+05     J/K\n",
      "    Gibbs function         -283840       -2.896e+07     J\n",
      " heat capacity c_p         912.086        9.306e+04     J/K\n",
      " heat capacity c_v         812.939        8.295e+04     J/K\n",
      "\n"
     ]
    }
   ],
   "source": [
    "f = ct.Hfc134a()\n",
    "\n",
    "# Specify temperature and pressure\n",
    "temp = Q_(325, 'K')\n",
    "pres = Q_(250e3, 'Pa')\n",
    "\n",
    "f.TP = temp.to('K').magnitude, pres.to('Pa').magnitude\n",
    "# see overview of properties\n",
    "f()"
   ]
  },
  {
   "cell_type": "code",
   "execution_count": 19,
   "metadata": {},
   "outputs": [
    {
     "name": "stdout",
     "output_type": "stream",
     "text": [
      "Internal energy:  220146.17 J/kg\n"
     ]
    }
   ],
   "source": [
    "# get internal energy in SI units (mass basis)\n",
    "print(f'Internal energy: {f.u: .2f} J/kg')"
   ]
  },
  {
   "cell_type": "code",
   "execution_count": 41,
   "metadata": {},
   "outputs": [
    {
     "name": "stdout",
     "output_type": "stream",
     "text": [
      "Specific volume:  0.1332 m^3/kg\n"
     ]
    }
   ],
   "source": [
    "# specify pressure and internal enegy\n",
    "pres = Q_(250e3, 'Pa')\n",
    "internal_energy = Q_(300e3, 'J/kg')\n",
    "f.UP = internal_energy.to('J/kg').magnitude, pres.to('Pa').magnitude\n",
    "\n",
    "# get specific volume\n",
    "print(f'Specific volume: {f.v: 0.4f} m^3/kg')"
   ]
  },
  {
   "cell_type": "markdown",
   "metadata": {},
   "source": [
    "## Compare ideal and real gas behavior for air"
   ]
  },
  {
   "cell_type": "code",
   "execution_count": 85,
   "metadata": {},
   "outputs": [
    {
     "name": "stdout",
     "output_type": "stream",
     "text": [
      "Δu for real gas: 647294.70 joule / kilogram\n",
      "Δu for ideal gas: 648472.39 joule / kilogram\n",
      "difference:  0.18%\n"
     ]
    }
   ],
   "source": [
    "temp1 = Q_(500, 'K')\n",
    "temp2 = Q_(1270, 'K')\n",
    "pres = Q_(500, 'kPa')\n",
    "\n",
    "# Real gas\n",
    "air_real1 = ct.Nitrogen()\n",
    "air_real1.TP = temp1.to('K').magnitude, pres.to('Pa').magnitude \n",
    "\n",
    "air_real2 = ct.Nitrogen()\n",
    "air_real2.TP =  temp2.to('K').magnitude, pres.to('Pa').magnitude \n",
    "\n",
    "delta_u_real = Q_(air_real2.u - air_real1.u, 'J/kg')\n",
    "print(f'Δu for real gas: {delta_u_real: .2f}')\n",
    "\n",
    "# ideal gas\n",
    "air_ideal1 = ct.Solution('air.cti')\n",
    "air_ideal1.TPX = temp1.to('K').magnitude, pres.to('Pa').magnitude, 'N2:1.0'\n",
    "\n",
    "air_ideal2 = ct.Solution('air.cti')\n",
    "air_ideal2.TPX = temp2.to('K').magnitude, pres.to('Pa').magnitude, 'N2:1.0'\n",
    "\n",
    "delta_u_ideal = Q_(air_ideal2.u - air_ideal1.u, 'J/kg')\n",
    "print(f'Δu for ideal gas: {delta_u_ideal: .2f}')\n",
    "\n",
    "diff = 100*np.abs(delta_u_ideal-delta_u_real)/delta_u_real\n",
    "print(f'difference: {diff.magnitude: .2f}%')"
   ]
  }
 ],
 "metadata": {
  "kernelspec": {
   "display_name": "Python 3",
   "language": "python",
   "name": "python3"
  },
  "language_info": {
   "codemirror_mode": {
    "name": "ipython",
    "version": 3
   },
   "file_extension": ".py",
   "mimetype": "text/x-python",
   "name": "python",
   "nbconvert_exporter": "python",
   "pygments_lexer": "ipython3",
   "version": "3.7.6"
  }
 },
 "nbformat": 4,
 "nbformat_minor": 4
}

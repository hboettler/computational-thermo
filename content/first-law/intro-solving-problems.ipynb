{
 "cells": [
  {
   "cell_type": "markdown",
   "metadata": {},
   "source": [
    "# Introduction to solving thermo problems"
   ]
  },
  {
   "cell_type": "code",
   "execution_count": 88,
   "metadata": {},
   "outputs": [],
   "source": [
    "# Numpy adds some useful numerical types and functions\n",
    "import numpy as np\n",
    "\n",
    "# Cantera will handle thermodynamic properties\n",
    "import cantera as ct\n",
    "\n",
    "# Pint gives us some helpful unit conversion\n",
    "from pint import UnitRegistry\n",
    "ureg = UnitRegistry()\n",
    "Q_ = ureg.Quantity"
   ]
  },
  {
   "cell_type": "code",
   "execution_count": 81,
   "metadata": {},
   "outputs": [
    {
     "name": "stdout",
     "output_type": "stream",
     "text": [
      "\n",
      "  water:\n",
      "\n",
      "       temperature          673.15  K\n",
      "          pressure     1.99362e+07  Pa\n",
      "           density             100  kg/m^3\n",
      "  mean mol. weight          18.016  amu\n",
      "    vapor fraction               1\n",
      "\n",
      "                          1 kg            1 kmol\n",
      "                       -----------      ------------\n",
      "          enthalpy    -1.31504e+07       -2.369e+08     J\n",
      "   internal energy    -1.33497e+07       -2.405e+08     J\n",
      "           entropy         9078.37        1.636e+05     J/K\n",
      "    Gibbs function    -1.92615e+07        -3.47e+08     J\n",
      " heat capacity c_p         6284.65        1.132e+05     J/K\n",
      " heat capacity c_v         2693.99        4.853e+04     J/K\n",
      "\n"
     ]
    }
   ],
   "source": [
    "# Water\n",
    "f = ct.Water()\n",
    "\n",
    "# specify temperature and specific volume, in SI units\n",
    "f.TV = 673.15, 1e-2\n",
    "f()"
   ]
  },
  {
   "cell_type": "markdown",
   "metadata": {},
   "source": [
    "Using Cantera to get fluid properties, for R134a:"
   ]
  },
  {
   "cell_type": "code",
   "execution_count": 40,
   "metadata": {},
   "outputs": [
    {
     "name": "stdout",
     "output_type": "stream",
     "text": [
      "\n",
      "  hfc134a:\n",
      "\n",
      "       temperature             325  K\n",
      "          pressure          250000  Pa\n",
      "           density         9.80674  kg/m^3\n",
      "  mean mol. weight         102.032  amu\n",
      "    vapor fraction               1\n",
      "\n",
      "                          1 kg            1 kmol\n",
      "                       -----------      ------------\n",
      "          enthalpy          245639        2.506e+07     J\n",
      "   internal energy          220146        2.246e+07     J\n",
      "           entropy         1629.17        1.662e+05     J/K\n",
      "    Gibbs function         -283840       -2.896e+07     J\n",
      " heat capacity c_p         912.086        9.306e+04     J/K\n",
      " heat capacity c_v         812.939        8.295e+04     J/K\n",
      "\n"
     ]
    }
   ],
   "source": [
    "f = ct.Hfc134a()\n",
    "\n",
    "# Specify temperature and pressure\n",
    "temp = Q_(325, 'K')\n",
    "pres = Q_(250e3, 'Pa')\n",
    "\n",
    "f.TP = temp.to('K').magnitude, pres.to('Pa').magnitude\n",
    "# see overview of properties\n",
    "f()"
   ]
  },
  {
   "cell_type": "code",
   "execution_count": 19,
   "metadata": {},
   "outputs": [
    {
     "name": "stdout",
     "output_type": "stream",
     "text": [
      "Internal energy:  220146.17 J/kg\n"
     ]
    }
   ],
   "source": [
    "# get internal energy in SI units (mass basis)\n",
    "print(f'Internal energy: {f.u: .2f} J/kg')"
   ]
  },
  {
   "cell_type": "code",
   "execution_count": 41,
   "metadata": {},
   "outputs": [
    {
     "name": "stdout",
     "output_type": "stream",
     "text": [
      "Specific volume:  0.1332 m^3/kg\n"
     ]
    }
   ],
   "source": [
    "# specify pressure and internal enegy\n",
    "pres = Q_(250e3, 'Pa')\n",
    "internal_energy = Q_(300e3, 'J/kg')\n",
    "f.UP = internal_energy.to('J/kg').magnitude, pres.to('Pa').magnitude\n",
    "\n",
    "# get specific volume\n",
    "print(f'Specific volume: {f.v: 0.4f} m^3/kg')"
   ]
  },
  {
   "cell_type": "markdown",
   "metadata": {},
   "source": [
    "## Compare ideal and real gas behavior for air"
   ]
  },
  {
   "cell_type": "code",
   "execution_count": 85,
   "metadata": {},
   "outputs": [
    {
     "name": "stdout",
     "output_type": "stream",
     "text": [
      "Δu for real gas: 647294.70 joule / kilogram\n",
      "Δu for ideal gas: 648472.39 joule / kilogram\n",
      "difference:  0.18%\n"
     ]
    }
   ],
   "source": [
    "temp1 = Q_(500, 'K')\n",
    "temp2 = Q_(1270, 'K')\n",
    "pres = Q_(500, 'kPa')\n",
    "\n",
    "# Real gas\n",
    "air_real1 = ct.Nitrogen()\n",
    "air_real1.TP = temp1.to('K').magnitude, pres.to('Pa').magnitude \n",
    "\n",
    "air_real2 = ct.Nitrogen()\n",
    "air_real2.TP =  temp2.to('K').magnitude, pres.to('Pa').magnitude \n",
    "\n",
    "delta_u_real = Q_(air_real2.u - air_real1.u, 'J/kg')\n",
    "print(f'Δu for real gas: {delta_u_real: .2f}')\n",
    "\n",
    "# ideal gas\n",
    "air_ideal1 = ct.Solution('air.cti')\n",
    "air_ideal1.TPX = temp1.to('K').magnitude, pres.to('Pa').magnitude, 'N2:1.0'\n",
    "\n",
    "air_ideal2 = ct.Solution('air.cti')\n",
    "air_ideal2.TPX = temp2.to('K').magnitude, pres.to('Pa').magnitude, 'N2:1.0'\n",
    "\n",
    "delta_u_ideal = Q_(air_ideal2.u - air_ideal1.u, 'J/kg')\n",
    "print(f'Δu for ideal gas: {delta_u_ideal: .2f}')\n",
    "\n",
    "diff = 100*np.abs(delta_u_ideal-delta_u_real)/delta_u_real\n",
    "print(f'difference: {diff.magnitude: .2f}%')"
   ]
  },
  {
   "cell_type": "markdown",
   "metadata": {},
   "source": [
    "## Example: hot steam equilibrating with cold liquid water\n",
    "\n",
    "Accident scenario: steam leak into rigid, insulated tank that is partially filled with water.\n",
    "\n",
    "The steam and liquid water are not initially at thermal equilibrium, though they are at the same pressure. The steam is at temperature $T_{s,1}$ = 600 C and pressure $P_1$ = 20 MPa. \n",
    "The liquid water is initially at $T_{\\text{liq},1}$ = 40 C and pressure $P_1$ = 20 MPa.\n",
    "The total volume of the tank is $V$ = 10 m$^3$ and the volume of the liquid water initially in the tank is $V_{\\text{liq},1} = 1 \\; \\text{m}^3$.\n",
    "\n",
    "Eventually, the contents of the tank reach a uniform temperature and pressure, $T_2$ and $P_2$. The tank is well-insulated and rigid.\n",
    "\n",
    "**Problem:** Determine the final temperature and pressure of the water in the tank."
   ]
  },
  {
   "cell_type": "markdown",
   "metadata": {},
   "source": [
    "First, what are the initial states of the steam and liquid?"
   ]
  },
  {
   "cell_type": "code",
   "execution_count": 74,
   "metadata": {},
   "outputs": [
    {
     "name": "stdout",
     "output_type": "stream",
     "text": [
      "\n",
      "  water:\n",
      "\n",
      "       temperature          873.15  K\n",
      "          pressure           2e+07  Pa\n",
      "           density         55.0118  kg/m^3\n",
      "  mean mol. weight          18.016  amu\n",
      "    vapor fraction               1\n",
      "\n",
      "                          1 kg            1 kmol\n",
      "                       -----------      ------------\n",
      "          enthalpy    -1.24332e+07        -2.24e+08     J\n",
      "   internal energy    -1.27968e+07       -2.305e+08     J\n",
      "           entropy         10024.8        1.806e+05     J/K\n",
      "    Gibbs function    -2.11864e+07       -3.817e+08     J\n",
      " heat capacity c_p         2808.18        5.059e+04     J/K\n",
      " heat capacity c_v         1964.45        3.539e+04     J/K\n",
      "\n"
     ]
    }
   ],
   "source": [
    "steam = ct.Water()\n",
    "temp_steam1 = Q_(600, 'degC')\n",
    "pres1 = Q_(20, 'MPa')\n",
    "steam.TP = temp_steam1.to('K').magnitude, pres1.to('Pa').magnitude\n",
    "steam()"
   ]
  },
  {
   "cell_type": "code",
   "execution_count": 75,
   "metadata": {},
   "outputs": [
    {
     "name": "stdout",
     "output_type": "stream",
     "text": [
      "\n",
      "  water:\n",
      "\n",
      "       temperature          313.15  K\n",
      "          pressure           2e+07  Pa\n",
      "           density         1000.81  kg/m^3\n",
      "  mean mol. weight          18.016  amu\n",
      "    vapor fraction               0\n",
      "\n",
      "                          1 kg            1 kmol\n",
      "                       -----------      ------------\n",
      "          enthalpy    -1.57857e+07       -2.844e+08     J\n",
      "   internal energy    -1.58056e+07       -2.848e+08     J\n",
      "           entropy         4084.54        7.359e+04     J/K\n",
      "    Gibbs function    -1.70647e+07       -3.074e+08     J\n",
      " heat capacity c_p         4128.68        7.438e+04     J/K\n",
      " heat capacity c_v         4011.51        7.227e+04     J/K\n",
      "\n"
     ]
    }
   ],
   "source": [
    "liquid = ct.Water()\n",
    "temp_liquid1 = Q_(40, 'degC')\n",
    "liquid.TP = temp_liquid1.to('K').magnitude, pres1.to('Pa').magnitude\n",
    "liquid()"
   ]
  },
  {
   "cell_type": "markdown",
   "metadata": {},
   "source": [
    "State $s,1$ is in the superheated vapor region (vapor fraction: 1) and state $\\text{liq},1$ is in the compressed liquid region (vapor fraction: 0)."
   ]
  },
  {
   "cell_type": "markdown",
   "metadata": {},
   "source": [
    "We can calculate the mass of liquid water in the tank, and then determine the volume and mass of steam:\n",
    "\\begin{align}\n",
    "m_{\\text{liq},1} &= \\frac{V_{\\text{liq},1}}{v_{\\text{liq},1}} \\\\\n",
    "V_{s,1} &= V_{\\text{tank}} - V_{\\text{liq},1} \\\\\n",
    "m_{s,1} &= \\frac{V_{s,1}}{v_{s,1}}\n",
    "\\end{align}"
   ]
  },
  {
   "cell_type": "code",
   "execution_count": 76,
   "metadata": {},
   "outputs": [
    {
     "name": "stdout",
     "output_type": "stream",
     "text": [
      "Mass of liquid at state 1: 1000.81 kilogram\n",
      "Mass of steam at state 1: 495.11 kilogram\n",
      "Total mass of system: 1495.92 kilogram\n"
     ]
    }
   ],
   "source": [
    "vol_tank = Q_(10, 'meter^3')\n",
    "vol_liquid1 = Q_(1, 'meter^3')\n",
    "\n",
    "mass_liquid1 = vol_liquid1 / Q_(liquid.v, 'm^3/kg')\n",
    "print(f'Mass of liquid at state 1: {mass_liquid1: .2f}')\n",
    "\n",
    "vol_steam1 = vol_tank - vol_liquid1\n",
    "mass_steam1 = vol_steam1 / Q_(steam.v, 'm^3/kg')\n",
    "print(f'Mass of steam at state 1: {mass_steam1: .2f}')\n",
    "\n",
    "mass_1 = mass_liquid1 + mass_steam1\n",
    "print(f'Total mass of system: {mass_1: .2f}')"
   ]
  },
  {
   "cell_type": "markdown",
   "metadata": {},
   "source": [
    "Do a mass balance on the tank for going from state 1 to state 2 (after equilibrium):\n",
    "\\begin{equation}\n",
    "\\frac{dm}{dt} = m_2 - m_1 = 0\n",
    "\\end{equation}\n",
    "and so $m_2 = m_1$, meaning the mass of water in the tank does not change.\n",
    "We can then find the specific volume of water in the tank:\n",
    "\\begin{equation}\n",
    "v_2 = \\frac{V_{\\text{tank}}}{m_2}\n",
    "\\end{equation}\n",
    "\n",
    "The tank experiences no heat or work, and does not exhibit any bulk changes in kinetic or potential energy; we can do an energy balance on the tank for the process of going from state 1 to state 2:\n",
    "\\begin{align}\n",
    "Q - W &= \\Delta KE + \\Delta PE + \\Delta U \\\\\n",
    "\\rightarrow 0 &= U_2 - U_1 \\\\\n",
    "0 &= u_2 m_2 - \\left( u_{\\text{liq},1} m_{\\text{liq},1} + u_{s,1} m_{s,1} \\right)\n",
    "\\end{align}\n",
    "Therefore, we can find the specific internal energy of the final state:\n",
    "\\begin{equation}\n",
    "u_2 = \\frac{ u_{\\text{liq},1} m_{\\text{liq},1} + u_{s,1} m_{s,1} }{m_2}\n",
    "\\end{equation}"
   ]
  },
  {
   "cell_type": "code",
   "execution_count": 77,
   "metadata": {
    "scrolled": true
   },
   "outputs": [
    {
     "name": "stdout",
     "output_type": "stream",
     "text": [
      "Specific of state 2: 6.68e-03 meter ** 3 / kilogram\n",
      "Internal energy of state 2: -14809.79 kilojoule / kilogram\n",
      "\n",
      "  water:\n",
      "\n",
      "       temperature         510.436  K\n",
      "          pressure     3.18519e+06  Pa\n",
      "           density         149.592  kg/m^3\n",
      "  mean mol. weight          18.016  amu\n",
      "    vapor fraction       0.0887074\n",
      "\n",
      "                          1 kg            1 kmol\n",
      "                       -----------      ------------\n",
      "          enthalpy    -1.47885e+07       -2.664e+08     J\n",
      "   internal energy    -1.48098e+07       -2.668e+08     J\n",
      "           entropy         6505.97        1.172e+05     J/K\n",
      "    Gibbs function    -1.81094e+07       -3.263e+08     J\n",
      " heat capacity c_p    inf              inf              J/K\n",
      " heat capacity c_v         6766.85        1.219e+05     J/K\n",
      "\n"
     ]
    }
   ],
   "source": [
    "mass_2 = mass_1\n",
    "\n",
    "spec_vol2 = vol_tank / mass_2\n",
    "print(f'Specific of state 2: {spec_vol2: .2e}')\n",
    "\n",
    "int_energy2 = (\n",
    "    Q_(liquid.u, 'J/kg')*mass_liquid1 + Q_(steam.u, 'J/kg')*mass_steam1\n",
    "    ) / mass_2\n",
    "int_energy2.ito('kilojoule/kg')\n",
    "print(f'Internal energy of state 2: {int_energy2: .2f}')\n",
    "\n",
    "water_equilibrium = ct.Water()\n",
    "water_equilibrium.UV = int_energy2.to('J/kg').magnitude, spec_vol2.to('m^3/kg').magnitude\n",
    "\n",
    "water_equilibrium()"
   ]
  },
  {
   "cell_type": "markdown",
   "metadata": {},
   "source": [
    "So, at equilibrium, the tank contains a mixture of saturated liquid and vapor."
   ]
  },
  {
   "cell_type": "code",
   "execution_count": null,
   "metadata": {},
   "outputs": [],
   "source": []
  }
 ],
 "metadata": {
  "kernelspec": {
   "display_name": "Python 3",
   "language": "python",
   "name": "python3"
  },
  "language_info": {
   "codemirror_mode": {
    "name": "ipython",
    "version": 3
   },
   "file_extension": ".py",
   "mimetype": "text/x-python",
   "name": "python",
   "nbconvert_exporter": "python",
   "pygments_lexer": "ipython3",
   "version": "3.7.6"
  }
 },
 "nbformat": 4,
 "nbformat_minor": 4
}
